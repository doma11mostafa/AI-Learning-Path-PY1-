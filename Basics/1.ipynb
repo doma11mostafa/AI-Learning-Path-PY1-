{
 "cells": [
  {
   "cell_type": "markdown",
   "id": "97d45c59",
   "metadata": {},
   "source": [
    "# AI.py "
   ]
  },
  {
   "cell_type": "code",
   "execution_count": 4,
   "id": "2ff67514",
   "metadata": {},
   "outputs": [
    {
     "name": "stdout",
     "output_type": "stream",
     "text": [
      "GDGonCampus\n"
     ]
    }
   ],
   "source": [
    "#our first line of code \n",
    "\n",
    "print(\"GDGonCampus\")"
   ]
  },
  {
   "cell_type": "markdown",
   "id": "cd3013d9",
   "metadata": {
    "slideshow": {
     "slide_type": "notes"
    }
   },
   "source": [
    "Python supports different Data types:\n",
    "\n",
    "integer (signed integers):  positive or negative whole numbers with no decimal point.\n",
    "\n",
    "float (floating point real values): real numbers and are written with a decimal point dividing the integer and fractional parts. Floats may also be in scientific notation, with E or e indicating the power of 10 (2.5e2 = 2.5 x 102 = 250).\n",
    "\n",
    "complex (complex numbers): are of the form a + bJ, where a and b are floats and J (or j) represents the square root of -1 (which is an imaginary number). The real part of the number is a, and the imaginary part is b. Complex numbers are not used much in Python programming.\n",
    "\n",
    "Boolean:  The Boolean data type is represented in Python as type bool. It has one of the two values True or False. This type is used to compare two values.\n",
    "\n",
    "String: A string in Python can be created using single, double, and triple quotes.\n",
    "\n",
    "Sequence Types:\tlist , tuple ,set , dict , range (to be discussed later) \n",
    "\n",
    "A function is a piece of prewritten code that performs an operation. \n",
    " \n",
    " \n",
    "Python is \"case-sensitive\":\n",
    " \n",
    " print(\"hello\")  #correct\n",
    " print('hello')  #correct\n",
    " Print(\"hello\")  #error\n",
    " PRINT(\"hello\")  #error\n",
    " \n",
    " When the computer does not recognize the statement to be executed, a syntax     error is generated.\n",
    " \n",
    "String literals in python are immutable, which means once they are created, they cannot be changed. Strings are surrounded by either single quotation marks, or double quotation marks.\n",
    "                     ( 'hello'  is the same as  \"hello\" .)\n",
    "\n",
    "Index in py:\n",
    "\n",
    "Like many other popular programming languages, strings in Python are arrays of bytes representing Unicode characters. \n",
    "\n",
    "However, Python does not have a character data type, a single character is simply a string with a length of 1.\n",
    "\n",
    "Example 1: Get the character at position 1 (remember that the first character has the position 0):\n",
    "\n",
    "a = \"Hello, World!\"\n",
    "print(a[1])\n",
    " \n",
    "To get the length of a string, use the len() function, which returns the length of the string.\n",
    " \n",
    "s = \"Hello, AOU students!\"\n",
    "print(len(s))\n",
    "\n",
    "To check if a certain phrase or character is present in a string, we can use the keyword in.\n",
    "\n",
    "       s = \"Hello, AOU students!\"\n",
    "       print('AOU' in s)\n",
    "You can return a range of characters using Slicing.\n",
    "                Slicing format: string[start: end: step]\n",
    "\n",
    "Example 2- Substring: Get the characters from position 1 to position 5-1 (character in position 5 is not included):\n",
    "\n",
    "b = \"Hello, AOU students!\"\n",
    "print(b[1:5])\n",
    "\n",
    "b = \"Hello, AOU students!\"\n",
    "print(b[:5])\n",
    "\n",
    "b = \"Hello, AOU students!\"\n",
    "print(b[7:])\n",
    "\n",
    "You can use negative indexes to start the slice from the end of the string.\n",
    "\n",
    "b = “Students!\"\n",
    "print(b[-6:-1])\n",
    "\n",
    "b = “Students!\"\n",
    "print(b[-6:-1:2])\n",
    "                                    0  1  2  3  4  5  6  7 8\n",
    "                                    s  t  u  d  e  n  t  s !\n",
    "                                   -9|-8|-7|-6|-5|-4|-3|-2|-1|\n",
    "\n",
    "Overpowering the print Function’s Ending Newline\n",
    "Python’s print() function comes with a parameter called ‘end’. \n",
    "EX:\n",
    "print('I', end='')\n",
    "print('Love', end='')\n",
    "print('Python')\n",
    "..........\n",
    "print('I', end='*')\n",
    "print('Love', end=' ')\n",
    "print('Python')\n",
    ".............................\n",
    "Escape Characters:\n",
    "................\n",
    "\\n: Causes output to be advanced to the next line.\n",
    "\\t: Causes output to skip over to the next horizontal tab position.\n",
    "\\’: Causes a single quote mark to be printed.\n",
    "\\“: Causes a double quote mark to be printed.\n",
    "\\\\: Causes a backslash character to be printed.\n",
    "EX:\n",
    "print('I\\nLove\\nPython')\n",
    "print('I\\tLove\\tPython')\n",
    ".............................\n",
    "Operator Precedence:\n",
    "Parentheses ()\n",
    "Exponentiation: **\n",
    "Multiplication, division, and remainder: * / // %\n",
    "Addition and subtraction: + −\n",
    "5 + 2 * 4                       //13\n",
    "10 / 2 − 3                     //2.0\n",
    "8 + 12 * 2 − 4              //28\n",
    "6 − 3 * 2 + 7 − 1         //6\n",
    "(6 − 3) * (2 + 7) / 3     //9.0\n",
    ".............................................\n",
    "Casting in Python:\n",
    "Sometimes, you need to explicitly convert a number from one type to another. This is called casting.\n",
    ".int(x) to convert x to a plain integer.\n",
    ".float(x) to convert x to a floating-point number.\n",
    ".str() to construct string from a wide variety of data types, including strings, integer literals and float literals\n",
    "...............................................\n",
    "String Testing Methods:\n",
    "\n",
    "isalnum() :Returns true if the string contains only alphabetic letters or digits \n",
    "\n",
    "isalpha() :Returns true if the string contains only alphabetic letters and is at least one character \n",
    "\n",
    "isdigit() :Returns true if the string contains only numeric digits and is at least one character in length\n",
    "\n",
    "islower() :Returns true if all of the alphabetic letters in the string are lowercase, and the string contains at least one alphabetic letter\n",
    "\n",
    "\n",
    "isspace()   :Returns true if the string contains only whitespace characters and is at least one character in length. Returns false otherwise. (Whitespace characters are spaces, newlines (\\n), and tabs (\\t).\n",
    "\n",
    "isupper()    :Returns true if all the alphabetic letters in the string are uppercase, and the string contains at least one alphabetic letter. \n",
    ".......................\n",
    "Modification Methods\n",
    "\n",
    "Although strings are immutable, meaning they cannot be modified, they do have several methods that return modified versions of themselves.\n",
    "\n",
    "lower()   Returns a copy of the string with all alphabetic letters converted to lowercase\n",
    "\n",
    "upper()    Returns a copy of the string with all alphabetic letters converted to uppercase\n",
    "\n",
    "lstrip() left\n",
    "lstrip(char) left by char\n",
    "rstrip() right\n",
    "rstrip(char)  right by char\n",
    "strip() all\n",
    "strip(char)\n",
    "\n",
    "Returns a copy of the string with all leading and trailing whitespace characters removed.\n",
    "\n",
    "\n",
    "\n"
   ]
  },
  {
   "cell_type": "markdown",
   "id": "fd199038",
   "metadata": {},
   "source": [
    "# Python Comments"
   ]
  },
  {
   "cell_type": "code",
   "execution_count": 3,
   "id": "fafe38cb",
   "metadata": {},
   "outputs": [
    {
     "name": "stdout",
     "output_type": "stream",
     "text": [
      "GDG\n"
     ]
    }
   ],
   "source": [
    "#GDGonCampus\n",
    "print(\"GDG\")"
   ]
  },
  {
   "cell_type": "code",
   "execution_count": null,
   "id": "66592c9b",
   "metadata": {},
   "outputs": [
    {
     "name": "stdout",
     "output_type": "stream",
     "text": [
      "Hello , World \n"
     ]
    }
   ],
   "source": [
    "\"\"\"\n",
    "ahmed \n",
    "mahmoud \n",
    "\"\"\"\n",
    "print(\"Hello , World \") # print function "
   ]
  },
  {
   "cell_type": "code",
   "execution_count": 6,
   "id": "d4fc4c08",
   "metadata": {},
   "outputs": [
    {
     "name": "stdout",
     "output_type": "stream",
     "text": [
      "my age is {20}\n"
     ]
    }
   ],
   "source": [
    "x=50\n",
    "print(\"my age is {20}\")"
   ]
  },
  {
   "cell_type": "code",
   "execution_count": 5,
   "id": "1db9ce84",
   "metadata": {},
   "outputs": [
    {
     "name": "stdout",
     "output_type": "stream",
     "text": [
      "my age is 20\n"
     ]
    }
   ],
   "source": [
    "# deffernt style of print line\n",
    "x=50\n",
    "print(f\"my age is {20}\")"
   ]
  },
  {
   "cell_type": "markdown",
   "id": "b486dfb4",
   "metadata": {},
   "source": [
    "# Variables"
   ]
  },
  {
   "cell_type": "code",
   "execution_count": 16,
   "id": "de10d913",
   "metadata": {},
   "outputs": [
    {
     "name": "stdout",
     "output_type": "stream",
     "text": [
      "5\n",
      "John\n"
     ]
    }
   ],
   "source": [
    "x = 5\n",
    "y = \"John\"\n",
    "print(x)\n",
    "print(y)"
   ]
  },
  {
   "cell_type": "code",
   "execution_count": 19,
   "id": "d1a9cfb2",
   "metadata": {},
   "outputs": [
    {
     "name": "stdout",
     "output_type": "stream",
     "text": [
      "Sally 4\n"
     ]
    }
   ],
   "source": [
    "x = 4        \n",
    "x = \"Sally\"  \n",
    "print(x,X)"
   ]
  },
  {
   "cell_type": "markdown",
   "id": "f3e0540e",
   "metadata": {},
   "source": [
    "# Variable Names"
   ]
  },
  {
   "cell_type": "code",
   "execution_count": 24,
   "id": "9b389b8f",
   "metadata": {},
   "outputs": [],
   "source": [
    "        #Legal variable names:\n",
    "myvar = \"John\"\n",
    "my_var = \"John\"\n",
    "_my_var = \"John\"\n",
    "myVar = \"John\"\n",
    "MYVAR = \"John\"\n",
    "myvar2 = \"John\"\n",
    "myVariableName = \"John\" # Camel Case\n",
    "my_variable_name = \"John\" # Snake Case\n",
    "MyVariableName = \"John\"  #Pascal Case"
   ]
  },
  {
   "cell_type": "code",
   "execution_count": 23,
   "id": "642e7592",
   "metadata": {
    "collapsed": true
   },
   "outputs": [
    {
     "ename": "SyntaxError",
     "evalue": "invalid syntax (1688327551.py, line 4)",
     "output_type": "error",
     "traceback": [
      "\u001b[1;36m  Cell \u001b[1;32mIn[23], line 4\u001b[1;36m\u001b[0m\n\u001b[1;33m    my var = \"John\"\u001b[0m\n\u001b[1;37m       ^\u001b[0m\n\u001b[1;31mSyntaxError\u001b[0m\u001b[1;31m:\u001b[0m invalid syntax\n"
     ]
    }
   ],
   "source": [
    "#Illegal variable names:\n",
    "2myvar = \"John\"\n",
    "my-var = \"John\"\n",
    "my var = \"John\""
   ]
  },
  {
   "cell_type": "markdown",
   "id": "a71f8ec5",
   "metadata": {},
   "source": [
    "# Many Values to Multiple Variables"
   ]
  },
  {
   "cell_type": "code",
   "execution_count": null,
   "id": "8b9862b0",
   "metadata": {},
   "outputs": [
    {
     "name": "stdout",
     "output_type": "stream",
     "text": [
      "apple\n",
      "banana\n",
      "cherry\n"
     ]
    }
   ],
   "source": [
    "x, y, z = \"Orange\", \"Banana\", \"Cherry\"\n",
    "print(x)\n",
    "print(y)\n",
    "print(z)\n",
    "#________________________________________________________________\n",
    "\n",
    "x = y = z = \"GDG\"\n",
    "print(x)\n",
    "print(y)\n",
    "print(z)\n",
    "#________________________________________________________________\n",
    "\n",
    "fruits = [\"apple\", \"banana\", \"cherry\"]\n",
    "x, y, z = fruits\n",
    "print(x)\n",
    "print(y)\n",
    "print(z)"
   ]
  },
  {
   "cell_type": "markdown",
   "id": "b8152fcc",
   "metadata": {},
   "source": [
    "# Python - Output Variables"
   ]
  },
  {
   "cell_type": "code",
   "execution_count": 31,
   "id": "283bd290",
   "metadata": {},
   "outputs": [],
   "source": [
    "# x = \"Python\"\n",
    "# y = \"is\"\n",
    "# z = \"awesome\"\n",
    "# print(x, y, z)\n",
    "\n",
    "# x = 5\n",
    "# y = 10\n",
    "# print(x + y)\n",
    "\n",
    "\n",
    "# x = 5\n",
    "# y = \"John\"\n",
    "# print(x + y)"
   ]
  },
  {
   "cell_type": "markdown",
   "id": "047ac381",
   "metadata": {},
   "source": [
    "# Python Data Types"
   ]
  },
  {
   "cell_type": "raw",
   "id": "dc83a5c5",
   "metadata": {},
   "source": [
    "\n",
    "Text Type:        =======>   \tstr\n",
    "Numeric Types:    =======>      int, float, complex\n",
    "Sequence Types:   =======>   \tlist, tuple, range\n",
    "Mapping Type:     =======>   \tdict\n",
    "Boolean Type:     =======>   \tbool\n",
    " "
   ]
  },
  {
   "cell_type": "raw",
   "id": "1132d3fc",
   "metadata": {},
   "source": [
    "x = \"Hello World\"   =======>    str\t\n",
    "x = 20              =======>   \tint\t\n",
    "x = 20.5            =======>   \tfloat\t\n",
    "x = 1j  =======>   \tcomplex\t\n",
    "x = [\"apple\", \"banana\", \"cherry\"]  =======>   \tlist\t\n",
    "x = (\"apple\", \"banana\", \"cherry\")  =======>   \ttuple\t\n",
    "x = range(6)                       =======>   \trange\t\n",
    "x = {\"name\" : \"John\", \"age\" : 36}  =======>   \tdict\t\n",
    "x = {\"apple\", \"banana\", \"cherry\"}  =======>     set\t \n",
    "x = True                           =======>   \tbool\t\n",
    " \t"
   ]
  },
  {
   "cell_type": "markdown",
   "id": "37ef5c47",
   "metadata": {},
   "source": [
    "# Python Numbers"
   ]
  },
  {
   "cell_type": "code",
   "execution_count": null,
   "id": "29563d93",
   "metadata": {},
   "outputs": [],
   "source": [
    "        #Convert from one type to another:\n",
    "\n",
    "x = 1    # int\n",
    "y = 2.8  # float\n",
    "z = 1j   # complex\n",
    "\n",
    "        #convert from int to float:\n",
    "a = float(x)\n",
    "\n",
    "        #convert from float to int:\n",
    "b = int(y)\n",
    "\n",
    "        #convert from int to complex:\n",
    "c = complex(x)\n",
    "\n",
    "print(a)\n",
    "print(b)\n",
    "print(c)\n",
    "\n",
    "print(type(a))\n",
    "print(type(b))\n",
    "print(type(c))\n"
   ]
  },
  {
   "cell_type": "code",
   "execution_count": 32,
   "id": "364948e3",
   "metadata": {},
   "outputs": [
    {
     "name": "stdout",
     "output_type": "stream",
     "text": [
      "<class 'int'>\n",
      "<class 'float'>\n",
      "<class 'complex'>\n",
      "1.0\n",
      "2\n",
      "(1+0j)\n",
      "<class 'float'>\n",
      "<class 'int'>\n",
      "<class 'complex'>\n"
     ]
    }
   ],
   "source": [
    "x = 1    # int\n",
    "y = 2.8  # float\n",
    "z = 1j   # complex\n",
    "\n",
    "print(type(x))\n",
    "print(type(y))\n",
    "print(type(z))\n",
    "#________________________________________________________________\n",
    "\n",
    "        #Convert from one type to another:\n",
    "\n",
    "\n",
    "x = 1    # int\n",
    "y = 2.8  # float\n",
    "z = 1j   # complex\n",
    "#________________________________________________________________\n",
    "\n",
    "        #convert from int to float:\n",
    "a = float(x)\n",
    "\n",
    "        #convert from float to int:\n",
    "b = int(y)\n",
    "\n",
    "        #convert from int to complex:\n",
    "c = complex(x)\n",
    "\n",
    "print(a)\n",
    "print(b)\n",
    "print(c)\n",
    "#________________________________________________________________\n",
    "\n",
    "print(type(a))\n",
    "print(type(b))\n",
    "print(type(c))"
   ]
  },
  {
   "cell_type": "markdown",
   "id": "0fb2c6e3",
   "metadata": {},
   "source": [
    "# Python Strings"
   ]
  },
  {
   "cell_type": "code",
   "execution_count": 37,
   "id": "57f79af5",
   "metadata": {},
   "outputs": [
    {
     "name": "stdout",
     "output_type": "stream",
     "text": [
      "I want to pay 49.95 dollars for 3 pieces of item 567.\n"
     ]
    }
   ],
   "source": [
    "print(\"Hello\")\n",
    "print('Hello')\n",
    "#________________________________________________________________\n",
    "\n",
    "a = \"\"\"Lorem ipsum dolor sit amet,\n",
    "consectetur adipiscing elit,\n",
    "sed do eiusmod tempor incididunt\n",
    "ut labore et dolore magna aliqua.\"\"\"\n",
    "print(a)\n",
    "#________________________________________________________________\n",
    "\n",
    "b = \"Hello, World!\"\n",
    "print(b[2:5])   #Slicing\n",
    "#________________________________________________________________\n",
    "\n",
    "        #Modify Strings\n",
    "\n",
    "a = \"Hello, World!\"\n",
    "print(a.lower())\n",
    "#________________________________________________________________\n",
    "a = \" Hello, World! \"\n",
    "print(a.strip()) # returns \"Hello, World!\"\n",
    "\n",
    "#________________________________________________________________\n",
    "\n",
    "a = \"Hello, World!\"\n",
    "print(a.replace(\"H\", \"J\"))\n",
    "\n",
    "#________________________________________________________________\n",
    "\n",
    "a = \"Hello, World!\"\n",
    "print(a.split(\",\")) # returns ['Hello', ' World!']\n",
    "#________________________________________________________________\n",
    "\n",
    "        # String Concatenation\n",
    "a = \"Hello\"\n",
    "b = \"World\"\n",
    "c = a + \" \" + b\n",
    "print(c)\n",
    "#________________________________________________________________\n",
    "        # format\n",
    "\n",
    "quantity = 3\n",
    "itemno = 567\n",
    "price = 49.95\n",
    "myorder = \"I want to pay {} dollars for {} pieces of item {}.\"\n",
    "print(myorder.format(price, quantity, ite))\n",
    "#________________________________________________________________\n",
    "\n",
    "        #format\n",
    "\n",
    "quantity = 3\n",
    "itemno = 567\n",
    "price = 49.95\n",
    "myorder = \"I want to pay {} dollars for {} pieces of item {}.\"\n",
    "print(f\"I want to pay {price} dollars for {quantity} pieces of item {itemno}.\")\n",
    "#________________________________________________________________\n",
    "\n",
    "        # Escape Character\n",
    "\n",
    "txt = \"We are the so-called \"Vikings\" from the north.\"\n",
    "#________________________________________________________________\n",
    "\n",
    "        # to fix this use \\\n",
    "txt = \"We are the so-called \\\"Vikings\\\" from the north.\"\n",
    "\n",
    "\n",
    "\n"
   ]
  },
  {
   "cell_type": "raw",
   "id": "5ed6b16f",
   "metadata": {},
   "source": [
    "\\' =======>   \tSingle Quote\t\n",
    "\\\\ =======>   \tBackslash\t\n",
    "\\n =======>   \tNew Line\t\n",
    "\\r =======>   \tCarriage Return\t\n",
    "\\t =======>   \tTab\t\n",
    "\\b =======>   \tBackspace"
   ]
  },
  {
   "cell_type": "code",
   "execution_count": null,
   "id": "122d951c",
   "metadata": {},
   "outputs": [],
   "source": [
    "print(\"GDG {try} onCampus \")"
   ]
  },
  {
   "cell_type": "markdown",
   "id": "dbbbe8da",
   "metadata": {},
   "source": [
    "# Python Booleans"
   ]
  },
  {
   "cell_type": "raw",
   "id": "5d151b68",
   "metadata": {},
   "source": [
    "In programming you often need to know if an expression is True or False.\n",
    "\n",
    "You can evaluate any expression in Python, and get one of two answers, True or False.\n",
    "\n",
    "When you compare two values, the expression is evaluated and Python returns the Boolean answer:"
   ]
  },
  {
   "cell_type": "code",
   "execution_count": 43,
   "id": "9b6498de",
   "metadata": {},
   "outputs": [
    {
     "ename": "SyntaxError",
     "evalue": "expression cannot contain assignment, perhaps you meant \"==\"? (3555699101.py, line 2)",
     "output_type": "error",
     "traceback": [
      "\u001b[1;36m  Cell \u001b[1;32mIn[43], line 2\u001b[1;36m\u001b[0m\n\u001b[1;33m    print(10 = 9)\u001b[0m\n\u001b[1;37m          ^\u001b[0m\n\u001b[1;31mSyntaxError\u001b[0m\u001b[1;31m:\u001b[0m expression cannot contain assignment, perhaps you meant \"==\"?\n"
     ]
    }
   ],
   "source": [
    "print(10 > 9)\n",
    "print(10 == 9)\n",
    "print(10 < 9)\n",
    "\n"
   ]
  },
  {
   "cell_type": "raw",
   "id": "15401ffc",
   "metadata": {},
   "source": [
    "Most Values are True\n",
    "Almost any value is evaluated to True if it has some sort of content.\n",
    "\n",
    "Any string is True, except empty strings.\n",
    "\n",
    "Any number is True, except 0.\n",
    "\n",
    "Any list, tuple, set, and dictionary are True, except empty ones."
   ]
  },
  {
   "cell_type": "code",
   "execution_count": 42,
   "id": "fe3e2fde",
   "metadata": {},
   "outputs": [
    {
     "data": {
      "text/plain": [
       "False"
      ]
     },
     "execution_count": 42,
     "metadata": {},
     "output_type": "execute_result"
    }
   ],
   "source": [
    "\n",
    "bool(False)\n",
    "bool(None)\n",
    "bool(0)\n",
    "bool(\"\")\n",
    "bool(())\n",
    "bool([])\n",
    "bool({})"
   ]
  },
  {
   "cell_type": "markdown",
   "id": "eea2489a",
   "metadata": {},
   "source": [
    "# Python Operators"
   ]
  },
  {
   "cell_type": "raw",
   "id": "61bff7a4",
   "metadata": {},
   "source": [
    "+ =======>   \tAddition\tx + y\t\n",
    "- =======>   \tSubtraction\tx - y\t\n",
    "* =======>   \tMultiplication\tx * y\t\n",
    "/ =======>   \tDivision\tx / y\t\n",
    "% =======>   \tModulus\tx % y\t\n",
    "** =======>   \tExponentiation\tx ** y\t\n",
    "// =======>   \tFloor division\tx // y    \n",
    "\n",
    "\n",
    "\n",
    "==\t =======>   Equal\tx == y\t\n",
    "!=\t =======>    Not equal\tx != y\t\n",
    ">\t =======>\tGreater than\tx > y\t\n",
    "<\t =======>\tLess than\tx < y\t\n",
    ">=\t =======>\tGreater than or equal to\tx >= y\t\n",
    "<=\t =======>\tLess than or equal to\tx <= y   \n",
    "\n",
    "\n",
    "\n",
    "and\t =======> \tReturns True if both statements are true\t =======>\tx < 5 and  x < 10\t\n",
    "or\t =======>\tReturns True if one of the statements is true\t =======>\tx < 5 or x < 4\t\n",
    "not\t =======>\tReverse the result, returns False if the result is true\t =======>\tnot(x < 5 and x < 10)  \n",
    "\n",
    "\n",
    "\n",
    "is\t =======> \tReturns True if both variables are the same object\t =======>\tx is y\t\n",
    "is not\t =======>\tReturns True if both variables are not the same object\t =======>\tx is not y\n",
    "\n",
    "\n",
    "\n",
    "in\t =======> \tReturns True if a sequence with the specified value is present in the object\tx in y\t\n",
    "not in\t =======>\tReturns True if a sequence with the specified value is not present in the object\tx not in y\n",
    "\n",
    "\n",
    "  The precedence order is described in the table below, starting with the highest precedence at the top:\n",
    "  \n",
    "() =====> ** =====>  *  /  //  % =====>  +  - =====>&\tBitwise AND\t^\tBitwise XOR\t|=====>==  !=  >  >=  <  <=  is  is not  in  not in =====>  not and  or "
   ]
  },
  {
   "cell_type": "markdown",
   "id": "8583425b",
   "metadata": {},
   "source": [
    "# Python Lists"
   ]
  },
  {
   "cell_type": "code",
   "execution_count": 51,
   "id": "c57384cd",
   "metadata": {
    "collapsed": true
   },
   "outputs": [
    {
     "name": "stdout",
     "output_type": "stream",
     "text": [
      "['apple', 'banana', 'cherry', 'apple', 'cherry']\n",
      "3\n",
      "3\n",
      "['apple', 'banana', 'cherry']\n",
      "['cherry', 'orange', 'kiwi']\n",
      "Yes, 'apple' is in the fruits list\n",
      "['apple', 'blackcurrant', 'cherry']\n",
      "['apple', 'blackcurrant', 'watermelon', 'orange', 'kiwi', 'mango']\n",
      "['apple', 'banana', 'watermelon', 'cherry']\n",
      "['apple', 'banana', 'cherry', 'orange']\n",
      "['apple', 'orange', 'banana', 'cherry']\n",
      "['apple', 'banana', 'cherry', 'mango', 'pineapple', 'papaya']\n",
      "['a', 'b', 'c', 1, 2, 3]\n",
      "['apple', 'cherry']\n",
      "['apple', 'banana']\n",
      "[]\n",
      "apple\n",
      "banana\n",
      "cherry\n",
      "apple\n",
      "banana\n",
      "cherry\n",
      "apple\n",
      "banana\n",
      "cherry\n",
      "['apple', 'banana', 'mango']\n",
      "['banana', 'kiwi', 'mango', 'orange', 'pineapple']\n",
      "['pineapple', 'orange', 'mango', 'kiwi', 'banana']\n",
      "['apple', 'banana', 'cherry']\n",
      "['apple', 'banana', 'cherry']\n"
     ]
    }
   ],
   "source": [
    "thislist = [\"apple\", \"banana\", \"cherry\", \"apple\", \"cherry\"]\n",
    "print(thislist)\n",
    "#________________________________________________________________\n",
    "\n",
    "thislist = [\"apple\", \"banana\", \"cherry\"]\n",
    "print(len(thislist))\n",
    "#________________________________________________________________\n",
    "        # List Items - Data Types\n",
    "\n",
    "list1 = [\"apple\", \"banana\", \"cherry\"]\n",
    "list2 = [1, 5, 7, 9, 3]\n",
    "list3 = [True, False, False]\n",
    "#________________________________________________________________\n",
    "\n",
    "list1 = [\"abc\", 34, True, 40, \"male\"]\n",
    "#________________________________________________________________\n",
    "        #Print the number of items in the list:\n",
    "\n",
    "thislist = [\"apple\", \"banana\", \"cherry\"]\n",
    "print(len(thislist))\n",
    "#________________________________________________________________\n",
    "\n",
    "\n",
    "        #Using the list() constructor to make a List:\n",
    "\n",
    "thislist = list((\"apple\", \"banana\", \"cherry\")) # note the double round-brackets\n",
    "print(thislist)\n",
    "\n",
    "#________________________________________________________________\n",
    "\n",
    "\n",
    "thislist = [\"apple\", \"banana\", \"cherry\", \"orange\", \"kiwi\", \"melon\", \"mango\"]\n",
    "print(thislist[2:5]) \n",
    "\n",
    "#________________________________________________________________\n",
    "\n",
    "thislist = [\"apple\", \"banana\", \"cherry\"]\n",
    "if \"apple\" in thislist:\n",
    "    print(\"Yes, 'apple' is in the fruits list\")\n",
    "#________________________________________________________________    \n",
    "\n",
    "        #Change List Items\n",
    "thislist = [\"apple\", \"banana\", \"cherry\"]   #1 \n",
    "thislist[1] = \"blackcurrant\"\n",
    "print(thislist)\n",
    "\n",
    "#________________________________________________________________\n",
    "\n",
    "thislist = [\"apple\", \"banana\", \"cherry\", \"orange\", \"kiwi\", \"mango\"]  #2\n",
    "thislist[1:3] = [\"blackcurrant\", \"watermelon\"] \n",
    "print(thislist)\n",
    "\n",
    "#________________________________________________________________\n",
    "\n",
    "thislist = [\"apple\", \"banana\", \"cherry\"] #3 \n",
    "thislist.insert(2, \"watermelon\")\n",
    "print(thislist)\n",
    "#________________________________________________________________\n",
    "\n",
    "        #Add List Items\n",
    "\n",
    "thislist = [\"apple\", \"banana\", \"cherry\"]\n",
    "thislist.append(\"orange\")\n",
    "print(thislist)\n",
    "#________________________________________________________________\n",
    "\n",
    "thislist = [\"apple\", \"banana\", \"cherry\"]\n",
    "thislist.insert(1, \"orange\")\n",
    "print(thislist)\n",
    "\n",
    "#________________________________________________________________\n",
    "\n",
    "thislist = [\"apple\", \"banana\", \"cherry\"]\n",
    "tropical = [\"mango\", \"pineapple\", \"papaya\"]\n",
    "thislist.extend(tropical)\n",
    "print(thislist)\n",
    "#________________________________________________________________\n",
    "\n",
    "list1 = [\"a\", \"b\", \"c\"]\n",
    "list2 = [1, 2, 3]\n",
    "\n",
    "list3 = list1 + list2\n",
    "print(list3)\n",
    "\n",
    "#________________________________________________________________\n",
    "\n",
    "        #Remove List Items\n",
    "thislist = [\"apple\", \"banana\", \"cherry\"]\n",
    "thislist.remove(\"banana\")\n",
    "print(thislist)\n",
    "#________________________________________________________________\n",
    "\n",
    "thislist = [\"apple\", \"banana\", \"cherry\"]\n",
    "thislist.pop()\n",
    "print(thislist)\n",
    "#________________________________________________________________\n",
    "\n",
    "thislist = [\"apple\", \"banana\", \"cherry\"]\n",
    "del thislist\n",
    "#________________________________________________________________\n",
    "\n",
    "thislist = [\"apple\", \"banana\", \"cherry\"]\n",
    "thislist.clear()\n",
    "print(thislist)\n",
    "#________________________________________________________________\n",
    "\n",
    "        # Loop Lists\n",
    "thislist = [\"apple\", \"banana\", \"cherry\"]\n",
    "for x in thislist:\n",
    "    print(x)\n",
    "#________________________________________________________________\n",
    "\n",
    "    thislist = [\"apple\", \"banana\", \"cherry\"]\n",
    "for i in range(len(thislist)):\n",
    "    print(thislist[i])\n",
    "#________________________________________________________________\n",
    "\n",
    "thislist = [\"apple\", \"banana\", \"cherry\"]\n",
    "i = 0\n",
    "while i < len(thislist):\n",
    "    print(thislist[i])\n",
    "    i = i + 1    \n",
    "#________________________________________________________________\n",
    "\n",
    "fruits = [\"apple\", \"banana\", \"cherry\", \"kiwi\", \"mango\"]\n",
    "newlist = []\n",
    "\n",
    "for x in fruits:\n",
    "    if \"a\" in x:\n",
    "        newlist.append(x)\n",
    "\n",
    "print(newlist)\n",
    "\n",
    "#________________________________________________________________\n",
    "\n",
    "        # Sort Lists\n",
    "thislist = [\"orange\", \"mango\", \"kiwi\", \"pineapple\", \"banana\"]\n",
    "thislist.sort()\n",
    "print(thislist)\n",
    "#________________________________________________________________\n",
    "\n",
    "thislist = [\"orange\", \"mango\", \"kiwi\", \"pineapple\", \"banana\"]\n",
    "thislist.sort(reverse = True)\n",
    "print(thislist)\n",
    "#________________________________________________________________\n",
    "\n",
    "        # Copy Lists\n",
    "\n",
    "thislist = [\"apple\", \"banana\", \"cherry\"]\n",
    "mylist = thislist.copy()\n",
    "print(mylist)\n",
    "#________________________________________________________________\n",
    "\n",
    "thislist = [\"apple\", \"banana\", \"cherry\"]\n",
    "mylist = list(thislist)\n",
    "print(mylist)\n",
    "#________________________________________________________________\n",
    "\n"
   ]
  },
  {
   "cell_type": "markdown",
   "id": "f1fa582b",
   "metadata": {},
   "source": [
    "# Python Tuples"
   ]
  },
  {
   "cell_type": "code",
   "execution_count": 52,
   "id": "3ec31ebe",
   "metadata": {
    "collapsed": true
   },
   "outputs": [
    {
     "name": "stdout",
     "output_type": "stream",
     "text": [
      "3\n",
      "('orange', 'kiwi', 'melon')\n",
      "apple\n",
      "banana\n",
      "cherry\n",
      "apple\n",
      "banana\n",
      "cherry\n",
      "('a', 'b', 'c', 1, 2, 3)\n"
     ]
    }
   ],
   "source": [
    "mytuple = (\"apple\", \"banana\", \"cherry\")\n",
    "#________________________________________________________________\n",
    "\n",
    "        #Print the number of items in the tuple:\n",
    "\n",
    "thistuple = (\"apple\", \"banana\", \"cherry\")\n",
    "print(len(thistuple))\n",
    "#________________________________________________________________\n",
    "\n",
    "        #String, int and boolean data types:\n",
    "\n",
    "tuple1 = (\"apple\", \"banana\", \"cherry\")\n",
    "tuple2 = (1, 5, 7, 9, 3)\n",
    "tuple3 = (True, False, False)\n",
    "#________________________________________________________________\n",
    "thistuple = (\"apple\", \"banana\", \"cherry\", \"orange\", \"kiwi\", \"melon\", \"mango\")\n",
    "print(thistuple[-4:-1])\n",
    "#________________________________________________________________\n",
    "\n",
    "        # update \n",
    "thistuple = (\"apple\", \"banana\", \"cherry\")\n",
    "y = list(thistuple)\n",
    "y.append(\"orange\")\n",
    "thistuple = tuple(y)\n",
    "#________________________________________________________________\n",
    "\n",
    "        # Unpacking a tuple:\n",
    "fruits = (\"apple\", \"banana\", \"cherry\")\n",
    "\n",
    "(green, yellow, red) = fruits\n",
    "\n",
    "print(green)\n",
    "print(yellow)\n",
    "print(red)\n",
    "\n",
    "#________________________________________________________________\n",
    "\n",
    "        #loop \n",
    "thistuple = (\"apple\", \"banana\", \"cherry\")\n",
    "for x in thistuple:\n",
    "    print(x)\n",
    "#________________________________________________________________\n",
    "\n",
    "        #Join two tuples:\n",
    "\n",
    "tuple1 = (\"a\", \"b\" , \"c\")\n",
    "tuple2 = (1, 2, 3)\n",
    "\n",
    "tuple3 = tuple1 + tuple2\n",
    "print(tuple3)\n",
    "\n",
    "#________________________________________________________________\n",
    "\n",
    "    "
   ]
  },
  {
   "cell_type": "markdown",
   "id": "f4982702",
   "metadata": {},
   "source": [
    "# Python Sets\n",
    " Note: Set items are unchangeable, but you can remove items and add new items."
   ]
  },
  {
   "cell_type": "code",
   "execution_count": 57,
   "id": "0d28bd4b",
   "metadata": {
    "collapsed": true
   },
   "outputs": [
    {
     "name": "stdout",
     "output_type": "stream",
     "text": [
      "{'apple', 'cherry', 'banana'}\n",
      "{0, True, 2, 'banana', 'apple', 'cherry'}\n",
      "{'apple', 'cherry', 'banana'}\n",
      "True\n",
      "apple\n",
      "cherry\n",
      "banana\n",
      "{'orange', 'apple', 'cherry', 'banana'}\n",
      "{'pineapple', 'banana', 'mango', 'apple', 'cherry', 'papaya'}\n",
      "{'orange', 'apple', 'cherry', 'banana', 'kiwi'}\n",
      "{'apple', 'cherry'}\n",
      "{'apple', 'cherry'}\n",
      "apple\n",
      "{'cherry', 'banana'}\n",
      "apple\n",
      "cherry\n",
      "banana\n"
     ]
    }
   ],
   "source": [
    "thisset = {\"apple\", \"banana\", \"cherry\", \"apple\"}\n",
    "\n",
    "print(thisset)\n",
    "\n",
    "#________________________________________________________________\n",
    "\n",
    "        # True and 1 is considered the same value , False and 0 is considered the same value:\n",
    "\n",
    "thisset = {\"apple\", \"banana\", \"cherry\", True, 1, 2,0,False}\n",
    "\n",
    "print(thisset)\n",
    "      \n",
    "#________________________________________________________________\n",
    "      \n",
    "        # A set with strings, integers and boolean values:\n",
    "\n",
    "set1 = {\"abc\", 34, True, 40, \"male\"}  \n",
    "#________________________________________________________________    \n",
    "      \n",
    "      \n",
    "         # Using the set() constructor to make a set:\n",
    "\n",
    "thisset = set((\"apple\", \"banana\", \"cherry\")) # note the double round-brackets\n",
    "print(thisset)      \n",
    "      \n",
    "#________________________________________________________________\n",
    "      \n",
    "      #Check if \"banana\" is present in the set:\n",
    "\n",
    "thisset = {\"apple\", \"banana\", \"cherry\"}\n",
    "\n",
    "print(\"banana\" in thisset)\n",
    "      \n",
    "#________________________________________________________________\n",
    "      \n",
    "     #Loop through the set, and print the values:\n",
    "\n",
    "thisset = {\"apple\", \"banana\", \"cherry\"}\n",
    "\n",
    "for x in thisset:\n",
    "    print(x)     \n",
    "#________________________________________________________________\n",
    "      \n",
    "         # Add Set Items\n",
    "      \n",
    " \n",
    "\n",
    "thisset = {\"apple\", \"banana\", \"cherry\"}\n",
    "\n",
    "thisset.add(\"orange\")\n",
    "\n",
    "print(thisset)      \n",
    "      \n",
    "#________________________________________________________________\n",
    "\n",
    "thisset = {\"apple\", \"banana\", \"cherry\"}\n",
    "tropical = {\"pineapple\", \"mango\", \"papaya\"}\n",
    "\n",
    "thisset.update(tropical)\n",
    "\n",
    "print(thisset)\n",
    "#________________________________________________________________\n",
    "      \n",
    "thisset = {\"apple\", \"banana\", \"cherry\"}\n",
    "mylist = [\"kiwi\", \"orange\"]\n",
    "\n",
    "thisset.update(mylist)\n",
    "\n",
    "print(thisset)\n",
    "#________________________________________________________________\n",
    "              #remove\n",
    "      \n",
    "thisset = {\"apple\", \"banana\", \"cherry\"}\n",
    "\n",
    "thisset.remove(\"banana\")\n",
    "\n",
    "print(thisset)\n",
    "      \n",
    "#________________________________________________________________\n",
    "      \n",
    "thisset = {\"apple\", \"banana\", \"cherry\"}\n",
    "\n",
    "thisset.discard(\"banana\")\n",
    "\n",
    "print(thisset)      \n",
    "#________________________________________________________________      \n",
    "thisset = {\"apple\", \"banana\", \"cherry\"}\n",
    "\n",
    "x = thisset.pop()\n",
    "\n",
    "print(x)\n",
    "\n",
    "print(thisset)      \n",
    "\n",
    "#________________________________________________________________\n",
    "          #loop\n",
    "thisset = {\"apple\", \"banana\", \"cherry\"}\n",
    "\n",
    "for x in thisset:print(x)  \n",
    "    \n",
    "#________________________________________________________________\n",
    "        #Join Two Sets\n",
    "    \n",
    "set1 = {\"a\", \"b\" , \"c\"}\n",
    "set2 = {1, 2, 3}\n",
    "\n",
    "set3 = set1.union(set2)\n",
    "print(set3)    \n",
    "#________________________________________________________________\n",
    "    \n",
    "    \n",
    "set1 = {\"a\", \"b\" , \"c\"}\n",
    "set2 = {1, 2, 3}\n",
    "\n",
    "set1.update(set2)\n",
    "print(set1)    \n",
    "#________________________________________________________________\n",
    "\n",
    "\n",
    "x = {\"apple\", \"banana\", \"cherry\"}\n",
    "y = {\"google\", \"microsoft\", \"apple\"}\n",
    "\n",
    "z = x.intersection(y)\n",
    "\n",
    "print(z)\n",
    "#________________________________________________________________\n",
    "\n",
    "x = {\"apple\", \"banana\", \"cherry\"}\n",
    "y = {\"google\", \"microsoft\", \"apple\"}\n",
    "\n",
    "z = x.symmetric_difference(y)\n",
    "\n",
    "print(z)\n",
    "\n",
    "#________________________________________________________________"
   ]
  },
  {
   "cell_type": "markdown",
   "id": "126b8ba8",
   "metadata": {},
   "source": [
    "# Python Dictionaries"
   ]
  },
  {
   "cell_type": "code",
   "execution_count": 58,
   "id": "e5ede272",
   "metadata": {},
   "outputs": [
    {
     "name": "stdout",
     "output_type": "stream",
     "text": [
      "20\n",
      "{'apple': 10, 'banana': 30, 'orange': 15, 'grape': 25}\n",
      "{'apple': 10, 'orange': 15}\n"
     ]
    }
   ],
   "source": [
    "# Empty dictionary\n",
    "empty_dict = {}\n",
    "\n",
    "# Dictionary with some initial values\n",
    "my_dict = {\"apple\": 10, \"banana\": 20, \"orange\": 15}\n",
    "\n",
    "#________________________________________________________________\n",
    "\n",
    "my_dict = {\"apple\": 10, \"banana\": 20, \"orange\": 15}\n",
    "\n",
    "# Accessing the value of a specific key\n",
    "print(my_dict[\"banana\"])  # This will print: 20\n",
    "\n",
    "#________________________________________________________________\n",
    "my_dict = {\"apple\": 10, \"banana\": 20, \"orange\": 15}\n",
    " \n",
    "\n",
    "        # Adding a new item\n",
    "my_dict[\"grape\"] = 25\n",
    "\n",
    "# Updating an existing value\n",
    "my_dict[\"banana\"] = 30\n",
    "\n",
    "print(my_dict)\n",
    "# This will print: {'apple': 10, 'banana': 30, 'orange': 15, 'grape': 25}\n",
    "#________________________________________________________________\n",
    "        # Deleting a specific item\n",
    "my_dict = {\"apple\": 10, \"banana\": 20, \"orange\": 15}\n",
    "\n",
    "        \n",
    "del my_dict[\"banana\"]\n",
    "\n",
    "print(my_dict)\n",
    "# This will print: {'apple': 10, 'orange': 15}\n"
   ]
  },
  {
   "cell_type": "markdown",
   "id": "2afecfe8",
   "metadata": {},
   "source": [
    "# Python If ... Else\n"
   ]
  },
  {
   "cell_type": "raw",
   "id": "a4011059",
   "metadata": {},
   "source": [
    "Equals: a == b\n",
    "Not Equals: a != b\n",
    "Less than: a < b\n",
    "Less than or equal to: a <= b\n",
    "Greater than: a > b\n",
    "Greater than or equal to: a >= b"
   ]
  },
  {
   "cell_type": "code",
   "execution_count": 70,
   "id": "040ad1c6",
   "metadata": {},
   "outputs": [
    {
     "name": "stdout",
     "output_type": "stream",
     "text": [
      "b is greater than a\n",
      "a and b are equal\n",
      "a is greater than b\n",
      "Both conditions are True\n",
      "At least one of the conditions is True\n",
      "a is NOT greater than b\n",
      "Above ten,\n",
      "and also above 20!\n"
     ]
    }
   ],
   "source": [
    "a = 33\n",
    "b = 200\n",
    "if b > a:\n",
    "    print(\"b is greater than a\")\n",
    "    \n",
    "#________________________________________________________________\n",
    "\n",
    "# a = 33\n",
    "# b = 200\n",
    "# if b > a:\n",
    "# print(\"b is greater than a\") # you will get an error\n",
    "\n",
    "#________________________________________________________________\n",
    "#         Elif\n",
    "a = 33\n",
    "b = 33\n",
    "if b > a:\n",
    "    print(\"b is greater than a\")\n",
    "elif a == b:\n",
    "    print(\"a and b are equal\")\n",
    "          \n",
    "#________________________________________________________________\n",
    "         #Else    \n",
    "a = 200\n",
    "b = 33\n",
    "if b > a:\n",
    "    print(\"b is greater than a\")\n",
    "elif a == b:\n",
    "    print(\"a and b are equal\")\n",
    "else:\n",
    "    print(\"a is greater than b\")   \n",
    "#________________________________________________________________\n",
    "         # Test if a is greater than b, AND if c is greater than a:\n",
    "\n",
    "a = 200\n",
    "b = 33\n",
    "c = 500\n",
    "if a > b and c > a:\n",
    "    print(\"Both conditions are True\")\n",
    "          \n",
    "#________________________________________________________________\n",
    "\n",
    "        #Test if a is greater than b, OR if a is greater than c:\n",
    "\n",
    "a = 200\n",
    "b = 33\n",
    "c = 500\n",
    "if a > b or a > c:\n",
    "    print(\"At least one of the conditions is True\")\n",
    "    \n",
    "#________________________________________________________________\n",
    "\n",
    "        #Test if a is NOT greater than b:\n",
    "\n",
    "a = 33\n",
    "b = 200\n",
    "if not a > b:\n",
    "    print(\"a is NOT greater than b\")\n",
    "    \n",
    "#________________________________________________________________\n",
    "        #Nested If\n",
    "    \n",
    "x = 41\n",
    "\n",
    "if x > 10:\n",
    "    print(\"Above ten,\")\n",
    "    if x > 20:\n",
    "        print(\"and also above 20!\")\n",
    "    else:\n",
    "        print(\"but not above 20.\")    \n",
    "        \n",
    "#________________________________________________________________\n",
    "        #The pass Statement\n",
    "a = 33\n",
    "b = 200\n",
    "\n",
    "if b > a:\n",
    "    pass   \n",
    "else:print(\"a > b\")"
   ]
  },
  {
   "cell_type": "markdown",
   "id": "8263f8fe",
   "metadata": {},
   "source": [
    "# input \n"
   ]
  },
  {
   "cell_type": "code",
   "execution_count": null,
   "id": "14905a50",
   "metadata": {},
   "outputs": [],
   "source": [
    "# Using the input() function to request input from the user and storing it in a variable\n",
    "name = input(\"Please enter your name: \")\n",
    "\n",
    "# Printing the value entered\n",
    "print(\"Hello, \" + name + \"! Welcome!\")\n",
    "\n",
    "#input,int(),float(),eval()"
   ]
  },
  {
   "cell_type": "markdown",
   "id": "50f95e3a",
   "metadata": {},
   "source": [
    "# exercise"
   ]
  }
 ],
 "metadata": {
  "kernelspec": {
   "display_name": "Python 3",
   "language": "python",
   "name": "python3"
  },
  "language_info": {
   "codemirror_mode": {
    "name": "ipython",
    "version": 3
   },
   "file_extension": ".py",
   "mimetype": "text/x-python",
   "name": "python",
   "nbconvert_exporter": "python",
   "pygments_lexer": "ipython3",
   "version": "3.11.9"
  }
 },
 "nbformat": 4,
 "nbformat_minor": 5
}
