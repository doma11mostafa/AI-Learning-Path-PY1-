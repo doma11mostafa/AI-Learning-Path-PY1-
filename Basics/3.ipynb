{
 "cells": [
  {
   "cell_type": "markdown",
   "id": "dfe3014a",
   "metadata": {},
   "source": [
    "# methods.PY"
   ]
  },
  {
   "cell_type": "raw",
   "id": "5f57fd5e",
   "metadata": {},
   "source": [
    "Introduction to Functions:\n",
    "........................\n",
    ".Modular programming is a software design technique that emphasizes separating the functionality of a program into independent, interchangeable modules.\n",
    ".Modular Programming helps develop programs that are much easier to read since they can be enabled as user-defined functions. \n",
    ".A program that carries multiple functions benefits in the following ways:\n",
    "Simpler Code\n",
    "Code Reuse\n",
    "Faster Development\n",
    "Better Testing\n",
    "Better Teamwork \n",
    ".A function is a group of statements that exist within a program for the purpose of performing a specific task. Instead of writing a large program as one long sequence of statements, it can be written as several small functions, each one performing a specific part of the task. \n",
    "...................................\n",
    "Function in python:\n",
    "You may recall being told that you can find the size of a list my_list by using len(my_list). This involved a Python function, len().              my_list=[5,6,8,9,7]                   \n",
    "                    len(my_list)\n",
    "                    len is afunction\n",
    "                    my_list is argument\n",
    "...........................................................\n",
    "Creating a Function:\n",
    "\n",
    "In Python a function is defined using the def keyword. Here is the general format of a function definition in Python:\n",
    " \n",
    "                        def function_name():\n",
    "                            block (a set of statements)\n",
    "calling function:\n",
    " \n",
    "def my_func():\n",
    "    print(\"hello world\")\n",
    "my_func() \n",
    "...................................................................\n",
    "Arguments:\n",
    "Information can be passed into functions as arguments.\n",
    "Arguments are specified after the function name, inside the parentheses. You can add as many arguments as you want, just separate them with a comma.\n",
    "\n",
    "Ex:\n",
    "def my_function(aname):\n",
    "  print('Hello, '+ aname )\n",
    "\n",
    "name=input('Enter a name: ')\n",
    "my_function(name)\n",
    "\n",
    "Ex:\n",
    "def my_function(names):\n",
    "   for x in names:\n",
    "      print(x)\n",
    "\n",
    "families = [\"Badr\", \"Jomaa\", \"Hamad\"]\n",
    "my_function(families)\n",
    ".................................................................\n",
    "Functions without return:\n",
    ".........................\n",
    "Some functions perform simple procedural tasks (specified in their bodies) but do not return any information when they are called\n",
    "\n",
    "Example: Write a function that will display a welcome message to a student with his/her name. Then, use the function in your program.\n",
    "def welcome(aname):\n",
    "    print(\"hello\",aname,end=\"-_\")\n",
    "    print(\"welcome to AOU\")\n",
    "welcome(\"Ahmed\")\n",
    "..................................................................\n",
    "Functions with return:\n",
    "......................\n",
    "Some functions provide a value as the result of some calculations made in the function’s body.\n",
    "\n",
    "Python provides us with the return statement:\n",
    "return followed by the value it needs to return\n",
    "\n",
    "In order not to lose the returned value , you need to:\n",
    ".assign it to a variable (for further calculations, if needed)\n",
    "OR \n",
    ".print it immediately.\n",
    "........................\n",
    "EX:\n",
    "Write a function that takes the height and width as arguments, calculates the area of a rectangle, and returns it. Then display the area in the output window. Use the function in your program. \n",
    "\n",
    "def recArea(aHeight, aWidth) :\n",
    "     \n",
    "     area = aHeight * aWidth\n",
    "     \n",
    "     return area\n",
    "\n",
    " \n",
    "h = eval(input(\"Enter the height: \" ))\n",
    "    \n",
    "w = eval(input(\"Enter the width: \"))\n",
    "\n",
    "print(\"Area = \",recArea(h,w)) \n",
    "...................................................................\n",
    "Functions with Multiple return values:\n",
    "EX:example on multiple return values\n",
    "def profile():\n",
    "    name = input('Enter your name: ')\n",
    "    YOB = int(input('Enter your year of birth: '))\n",
    "    age= 2023- YOB\n",
    "    return [name, age]\n",
    "\n",
    "profile_data = profile()\n",
    "print('Name: ',profile_data[0])\n",
    "print('Age: ',profile_data[1])\n",
    "......................................................\n",
    "def profile():\n",
    "    name = input('Enter your name: ')\n",
    " YOB = int(input('Enter your year of birth: '))\n",
    "    age= 2023- YOB\n",
    "    return name, age\n",
    "\n",
    "name, age = profile()\n",
    "print('Name: ',name)\n",
    "print('Age: ',age)\n",
    ".....................................................\n",
    "Local Variables:\n",
    "\n",
    "A local variable is created inside a function and cannot be accessed by statements that are outside the function. Different functions can have local variables with the same names because the functions cannot see each other's local variables.\n",
    "\n",
    "aname=\"boom\"\n",
    "def  printHello():\n",
    "    aname = input('Enter your name: ')\n",
    "    print(\"Hello,\", aname)\n",
    "printHello()\n",
    "print(aname)\n",
    ".......................................................\n",
    "Making Changes to Parameters:\n",
    "\n",
    "When an argument is passed to a function in Python, the function parameter variable will reference the argument’s value. \n",
    "However, any changes that are made to the parameter variable will not affect the argument.\n",
    "function can access global func.\n",
    "outside the function cannot access local variables inside the function.\n",
    "\n",
    "name=\"Ahmad\"\n",
    "def printhello(name):\n",
    "    print(\"Hello,\",name)\n",
    "    name='fadi'\n",
    "    print('the name is now ',name)\n",
    "printhello(name)\n",
    "print(\"Outside the function,the name is still \",name)\n",
    ".........................................................\n",
    "Global Variables:\n",
    "A global variable can be accessed by any statement in the program file, including the statements in any function.\n",
    "When a variable is created by an assignment statement that is written outside all the functions in a program file, the variable is global.\n",
    "EX:\n",
    "name=\"Ahmad\"\n",
    "def printHello():\n",
    "   print(\"Hello\",name)\n",
    "printHello()\n",
    "\n",
    "EX:\n",
    "x='awesome'\n",
    "def myfunc():\n",
    "    x=\"fantastic\"\n",
    "    print('python is '+x)\n",
    "myfunc()\n",
    "print(\"python is \"+x)\n",
    "............................................................\n",
    "Global Variables:\n",
    "An additional step is required if you want a statement in a function to assign a value to a global variable. \n",
    "\n",
    "EX:\n",
    "def myfunc():\n",
    "    global x\n",
    "    x='fantastic'\n",
    "myfunc()\n",
    "print(\"python is \"+x)\n",
    "    \n",
    "EX:\n",
    "x = \"awesome\"\n",
    "def myfunc():\n",
    "  global x\n",
    "  x = \"fantastic\"\n",
    "  print(\"Python is \" + x)\n",
    "\n",
    "myfunc()\n",
    "print(\"Python is \" + x)\n",
    "...................................................................\n",
    "Reusing Code:\n",
    "\n",
    "There is a more elegant way to reuse functions. Instead of copying a function into a new program, you can also put all your functions – say, for drawing figures – into a separate file (with the .py extension). \n",
    "Let’s call it figure_drawing_functions.py. \n",
    "\n",
    "At the beginning of your new program, you then simply add from figure_drawing_functions import *. \n",
    "....................................................................\n",
    "The math Module:\n",
    "ceil(x) Returns the smallest integer that is greater than or equal to x.\n",
    "exp(x) Returns ex\n",
    "floor(x) Returns the largest integer that is less than or equal to x.\n",
    "hypot(x, y) Returns the length of a hypotenuse that extends from (0, 0) to (x, y).\n",
    "log(x) Returns the natural logarithm of x.\n",
    "log10(x) Returns the base-10 logarithm of x.\n",
    "radians(x) Assuming x is an angle in degrees, the function returns the angle converted to radians.\n",
    "degrees(x) Assuming x is an angle in radians, the function returns the angle converted to degrees.\n",
    "sqrt(x)Returns the square root of x.\n",
    "\n",
    "from math import *\n",
    "x=2.6\n",
    "y=10000\n",
    "z=1\n",
    "print(ceil(x))\n",
    "print(floor(x))\n",
    "print(log(x))\n",
    "print(log10(y))\n",
    "print(exp(z))\n",
    "\n",
    "\n",
    "\n",
    "\n",
    "\n",
    "\n"
   ]
  },
  {
   "cell_type": "code",
   "execution_count": 2,
   "id": "edfbe13b",
   "metadata": {},
   "outputs": [
    {
     "name": "stdout",
     "output_type": "stream",
     "text": [
      "hello world\n"
     ]
    }
   ],
   "source": [
    "def my_func():\n",
    "    print(\"hello world\")\n",
    "my_func()\n"
   ]
  },
  {
   "cell_type": "code",
   "execution_count": 3,
   "id": "968a41a2",
   "metadata": {},
   "outputs": [
    {
     "name": "stdout",
     "output_type": "stream",
     "text": [
      "Enter a name: adham\n",
      "Hello, adham\n"
     ]
    }
   ],
   "source": [
    "def my_function(aname):\n",
    "  print('Hello, '+ aname )\n",
    "\n",
    "name=input('Enter a name: ')\n",
    "my_function(name)"
   ]
  },
  {
   "cell_type": "code",
   "execution_count": 4,
   "id": "1ccb1f7c",
   "metadata": {},
   "outputs": [
    {
     "name": "stdout",
     "output_type": "stream",
     "text": [
      "Badr\n",
      "Jomaa\n",
      "Hamad\n"
     ]
    }
   ],
   "source": [
    "def my_function(names):\n",
    "   for x in names:\n",
    "      print(x)\n",
    "\n",
    "families = [\"Badr\", \"Jomaa\", \"Hamad\"]\n",
    "my_function(families)"
   ]
  },
  {
   "cell_type": "code",
   "execution_count": 5,
   "id": "ce73193b",
   "metadata": {},
   "outputs": [
    {
     "name": "stdout",
     "output_type": "stream",
     "text": [
      "hello Ahmed-_welcome to AOU\n"
     ]
    }
   ],
   "source": [
    "def welcome(aname):\n",
    "    print(\"hello\",aname,end=\"-_\")\n",
    "    print(\"welcome to AOU\")\n",
    "welcome(\"Ahmed\")"
   ]
  },
  {
   "cell_type": "code",
   "execution_count": 7,
   "id": "bdbf345e",
   "metadata": {},
   "outputs": [
    {
     "name": "stdout",
     "output_type": "stream",
     "text": [
      "Enter the height: 6\n",
      "Enter the width: 5\n",
      "Area =  30\n"
     ]
    }
   ],
   "source": [
    "def recArea(aHeight, aWidth) :\n",
    "     \n",
    "     area = aHeight * aWidth\n",
    "     \n",
    "     return area\n",
    "\n",
    "from GDSC import *\n",
    "\n",
    "h = eval(input(\"Enter the height: \" ))\n",
    "    \n",
    "w = eval(input(\"Enter the width: \"))\n",
    "\n",
    "print(\"Area = \",recArea(h,w)) "
   ]
  },
  {
   "cell_type": "code",
   "execution_count": 8,
   "id": "24369404",
   "metadata": {},
   "outputs": [
    {
     "name": "stdout",
     "output_type": "stream",
     "text": [
      "Enter your name: adham\n",
      "Enter your year of birth: 2003\n",
      "Name:  adham\n",
      "Age:  20\n"
     ]
    }
   ],
   "source": [
    "def profile():\n",
    "    name = input('Enter your name: ')\n",
    "    YOB = int(input('Enter your year of birth: '))\n",
    "    age= 2023- YOB\n",
    "    return [name, age]\n",
    "\n",
    "profile_data = profile()\n",
    "print('Name: ',profile_data[0])\n",
    "print('Age: ',profile_data[1])"
   ]
  },
  {
   "cell_type": "code",
   "execution_count": 11,
   "id": "3930970b",
   "metadata": {},
   "outputs": [
    {
     "name": "stdout",
     "output_type": "stream",
     "text": [
      "Enter your name: adham\n",
      "Enter your year of birth: 2003\n",
      "Name:  adham\n",
      "Age:  20\n"
     ]
    }
   ],
   "source": [
    "def profile():\n",
    "    name = input('Enter your name: ')\n",
    "    YOB = int(input('Enter your year of birth: '))\n",
    "    age= 2023- YOB\n",
    "    return name, age\n",
    "\n",
    "name, age = profile()\n",
    "print('Name: ',name)\n",
    "print('Age: ',age)"
   ]
  },
  {
   "cell_type": "code",
   "execution_count": 14,
   "id": "61609467",
   "metadata": {},
   "outputs": [
    {
     "name": "stdout",
     "output_type": "stream",
     "text": [
      "Enter your name: adham\n",
      "Hello, adham\n",
      "boom\n"
     ]
    }
   ],
   "source": [
    "\n",
    "def  printHello():\n",
    "    aname = input('Enter your name: ')\n",
    "    print(\"Hello,\", aname)\n",
    "printHello()\n",
    "aname=\"boom\"\n",
    "print(aname)"
   ]
  },
  {
   "cell_type": "code",
   "execution_count": 15,
   "id": "a33c2013",
   "metadata": {},
   "outputs": [
    {
     "name": "stdout",
     "output_type": "stream",
     "text": [
      "Hello, Ahmad\n",
      "the name is now  fadi\n",
      "Outside the function,the name is still  Ahmad\n"
     ]
    }
   ],
   "source": [
    "name=\"Ahmad\"\n",
    "def printhello(name):\n",
    "    print(\"Hello,\",name)\n",
    "    name='fadi'\n",
    "    print('the name is now ',name)\n",
    "printhello(name)\n",
    "print(\"Outside the function,the name is still \",name)\n",
    "    "
   ]
  },
  {
   "cell_type": "code",
   "execution_count": 17,
   "id": "16637879",
   "metadata": {},
   "outputs": [
    {
     "name": "stdout",
     "output_type": "stream",
     "text": [
      "Hello adham\n"
     ]
    }
   ],
   "source": [
    "name=\"Ahmad\"\n",
    "def printHello():\n",
    "    name='adham'   \n",
    "    print(\"Hello\",name)\n",
    "printHello()"
   ]
  },
  {
   "cell_type": "code",
   "execution_count": 18,
   "id": "20934f8c",
   "metadata": {},
   "outputs": [
    {
     "name": "stdout",
     "output_type": "stream",
     "text": [
      "Python is fantastic\n",
      "Python is fantastic\n"
     ]
    }
   ],
   "source": [
    "x = \"awesome\"\n",
    "def myfunc():\n",
    "  global x\n",
    "  x = \"fantastic\"\n",
    "  print(\"Python is \" + x)\n",
    "\n",
    "myfunc()\n",
    "print(\"Python is \" + x)"
   ]
  },
  {
   "cell_type": "code",
   "execution_count": 28,
   "id": "82ef7342",
   "metadata": {},
   "outputs": [
    {
     "name": "stdout",
     "output_type": "stream",
     "text": [
      "3\n",
      "2\n",
      "9.210340371976184\n",
      "4.0\n",
      "2.718281828459045\n",
      "10000.000337999994\n",
      "100.0\n"
     ]
    }
   ],
   "source": [
    "from math import *\n",
    "x=2.6\n",
    "y=10000\n",
    "z=1\n",
    "print(ceil(x))\n",
    "print(floor(x))\n",
    "print(log(y))\n",
    "print(log10(y))\n",
    "print(exp(z))\n",
    "print(hypot(x,y))\n",
    "print(sqrt(y))\n"
   ]
  },
  {
   "cell_type": "code",
   "execution_count": null,
   "id": "4fdb2a8b",
   "metadata": {},
   "outputs": [],
   "source": []
  },
  {
   "cell_type": "code",
   "execution_count": null,
   "id": "32f1fed9",
   "metadata": {},
   "outputs": [],
   "source": []
  },
  {
   "cell_type": "code",
   "execution_count": null,
   "id": "82012dd8",
   "metadata": {},
   "outputs": [],
   "source": []
  }
 ],
 "metadata": {
  "kernelspec": {
   "display_name": "Python 3 (ipykernel)",
   "language": "python",
   "name": "python3"
  },
  "language_info": {
   "codemirror_mode": {
    "name": "ipython",
    "version": 3
   },
   "file_extension": ".py",
   "mimetype": "text/x-python",
   "name": "python",
   "nbconvert_exporter": "python",
   "pygments_lexer": "ipython3",
   "version": "3.9.7"
  }
 },
 "nbformat": 4,
 "nbformat_minor": 5
}
