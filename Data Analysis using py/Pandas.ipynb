{
 "cells": [
  {
   "cell_type": "markdown",
   "id": "b7f53c47",
   "metadata": {},
   "source": [
    "# Import Pandas"
   ]
  },
  {
   "cell_type": "raw",
   "id": "d2000b52",
   "metadata": {},
   "source": [
    "●\tمكتبة Pandas  من أهم مكتبات بايثون , لقراءة البيانات و التعامل معها , وعمل الرسوم البيانية الخاصة بها\n",
    "●\tهي اختصار لكلمات : Panel Data Analysis\n",
    "\n",
    "●\tيتم استدعائها بالأمر   \n",
    "import pandas as pd\n",
    "import numpy as np\n",
    "from numpy import *"
   ]
  },
  {
   "cell_type": "code",
   "execution_count": 1,
   "id": "c3cf5561",
   "metadata": {},
   "outputs": [],
   "source": [
    "import pandas as pd"
   ]
  },
  {
   "cell_type": "markdown",
   "id": "dadb4886",
   "metadata": {},
   "source": [
    "# العمليات الأساسية  "
   ]
  },
  {
   "cell_type": "code",
   "execution_count": 2,
   "id": "2d523019",
   "metadata": {},
   "outputs": [
    {
     "name": "stdout",
     "output_type": "stream",
     "text": [
      "0    0.25\n",
      "1    0.50\n",
      "2    0.75\n",
      "3    1.00\n",
      "dtype: float64\n"
     ]
    }
   ],
   "source": [
    "#●\tعمل مصفوفة من بعد واحد ( الـ S   كابيتال )  \n",
    "data = pd.Series([0.25, 0.5, 0.75, 1.0])\n",
    "print(data)\n"
   ]
  },
  {
   "cell_type": "code",
   "execution_count": 3,
   "id": "0f5c61f3",
   "metadata": {},
   "outputs": [
    {
     "name": "stdout",
     "output_type": "stream",
     "text": [
      "[0.25 0.5  0.75 1.  ]\n",
      "RangeIndex(start=0, stop=4, step=1)\n",
      "<bound method Series.keys of 0    0.25\n",
      "1    0.50\n",
      "2    0.75\n",
      "3    1.00\n",
      "dtype: float64>\n"
     ]
    }
   ],
   "source": [
    "#●\tالقيم\n",
    "data = pd.Series((0.25, 0.5, 0.75, 1.0))\n",
    "print(data.values)\n",
    "print(data.index)\n",
    "print(data.keys)\n"
   ]
  },
  {
   "cell_type": "code",
   "execution_count": 4,
   "id": "84d03b0d",
   "metadata": {},
   "outputs": [
    {
     "name": "stdout",
     "output_type": "stream",
     "text": [
      "count    11.000000\n",
      "mean      5.363636\n",
      "std       2.292280\n",
      "min       2.000000\n",
      "25%       3.500000\n",
      "50%       5.000000\n",
      "75%       7.000000\n",
      "max       9.000000\n",
      "dtype: float64\n"
     ]
    }
   ],
   "source": [
    "#●\tمعلومات عنها\n",
    "data = pd.Series((3,6,9,8,5,4,2,6,3,5,8))\n",
    "print(data.describe())\n"
   ]
  },
  {
   "cell_type": "code",
   "execution_count": 5,
   "id": "ede40179",
   "metadata": {},
   "outputs": [
    {
     "name": "stdout",
     "output_type": "stream",
     "text": [
      "max      9.000000\n",
      "min      2.000000\n",
      "sum     59.000000\n",
      "mean     5.363636\n",
      "std      2.292280\n",
      "dtype: float64\n"
     ]
    }
   ],
   "source": [
    "#●\tاكبر , اصغر\n",
    "data = pd.Series((3,6,9,8,5,4,2,6,3,5,8))\n",
    "\n",
    "print(data.agg(['max','min','sum','mean','std']))\n"
   ]
  },
  {
   "cell_type": "code",
   "execution_count": 6,
   "id": "074ff8c6",
   "metadata": {},
   "outputs": [
    {
     "name": "stdout",
     "output_type": "stream",
     "text": [
      "0.5\n",
      "1    0.50\n",
      "2    0.75\n",
      "dtype: float64\n",
      "1    0.5\n",
      "dtype: float64\n"
     ]
    }
   ],
   "source": [
    "#●\tالاجتزاء\n",
    "data = pd.Series((0.25, 0.5, 0.75, 1.0))\n",
    "\n",
    "print(data[1])\n",
    "print(data[1:3])\n",
    "print(data[1:3:2])\n"
   ]
  },
  {
   "cell_type": "code",
   "execution_count": 7,
   "id": "17f6dd06",
   "metadata": {},
   "outputs": [
    {
     "name": "stdout",
     "output_type": "stream",
     "text": [
      "a    1\n",
      "b    2\n",
      "c    3\n",
      "d    4\n",
      "dtype: int64\n",
      "a    1\n",
      "b    2\n",
      "c    3\n",
      "d    4\n",
      "dtype: int64\n"
     ]
    }
   ],
   "source": [
    "#●\tكتابة ليست\n",
    "data1 = pd.Series([1,2,3,4], index=['a', 'b', 'c', 'd'])#\n",
    "\n",
    "data2 = pd.Series({'a':1,'b':2,'c':3,'d':4})\n",
    "\n",
    "print(data1)\n",
    "print(data2)\n"
   ]
  },
  {
   "cell_type": "code",
   "execution_count": 8,
   "id": "a3d02f73",
   "metadata": {},
   "outputs": [
    {
     "name": "stdout",
     "output_type": "stream",
     "text": [
      "1\n",
      "2\n"
     ]
    }
   ],
   "source": [
    "#●\tقيمة محددة \n",
    "data1 = pd.Series([1,2,3,4], index=['a', 'b', 'c', 'd'])\n",
    "\n",
    "data2 = pd.Series({'a':1,'b':2,'c':3,'d':4})\n",
    "\n",
    "print(data1['a'])\n",
    "print(data2['b'])\n"
   ]
  },
  {
   "cell_type": "code",
   "execution_count": 9,
   "id": "d0b8c3a0",
   "metadata": {},
   "outputs": [
    {
     "name": "stdout",
     "output_type": "stream",
     "text": [
      "Index([2, 3, 5, 7, 11], dtype='int64')\n"
     ]
    }
   ],
   "source": [
    "#●\tعمل ليست\n",
    "x = pd.Index([2,3,5,7,11])\n",
    "\n",
    "print(x)\n"
   ]
  },
  {
   "cell_type": "code",
   "execution_count": 10,
   "id": "8d193b35",
   "metadata": {},
   "outputs": [
    {
     "name": "stdout",
     "output_type": "stream",
     "text": [
      "Index([1, 3, 5, 7, 9], dtype='int64')\n",
      "Index([2, 3, 5, 7, 11], dtype='int64')\n",
      "Index([0, 3, 5, 7, 9], dtype='int64')\n",
      "Index([3, 3, 5, 7, 11], dtype='int64')\n",
      "Index([3, 0, 0, 0, 2], dtype='int64')\n"
     ]
    }
   ],
   "source": [
    "#●\tعلاقات منطقية\n",
    "a = pd.Index([1, 3, 5, 7, 9])\n",
    "b = pd.Index([2, 3, 5, 7, 11])\n",
    "\n",
    "print(a)\n",
    "print(b)\n",
    "print(a & b)        # AND   \n",
    "print(a | b)        # OR\n",
    "print(a ^ b) # هات الارقام عدا المقررة XOR\n",
    "\n"
   ]
  },
  {
   "cell_type": "markdown",
   "id": "aab1afd0",
   "metadata": {},
   "source": [
    "# الرسومات البيانية "
   ]
  },
  {
   "cell_type": "code",
   "execution_count": 11,
   "id": "3edbdc75",
   "metadata": {},
   "outputs": [
    {
     "data": {
      "text/plain": [
       "<AxesSubplot:>"
      ]
     },
     "execution_count": 11,
     "metadata": {},
     "output_type": "execute_result"
    },
    {
     "data": {
      "image/png": "[encoded data removed]",
      "text/plain": [
       "<Figure size 432x288 with 1 Axes>"
      ]
     },
     "metadata": {
      "needs_background": "light"
     },
     "output_type": "display_data"
    }
   ],
   "source": [
    "#●\tمنحني عادي\n",
    "data = pd.Series((3,6,9,8,5,4,2,6,3,5,8))\n",
    "\n",
    "data.plot()\n",
    "data.plot(kind='line')  \n"
   ]
  },
  {
   "cell_type": "code",
   "execution_count": 12,
   "id": "807fed3a",
   "metadata": {},
   "outputs": [
    {
     "data": {
      "text/plain": [
       "<AxesSubplot:>"
      ]
     },
     "execution_count": 12,
     "metadata": {},
     "output_type": "execute_result"
    },
    {
     "data": {
      "image/png": "[encoded data removed]",
      "text/plain": [
       "<Figure size 432x288 with 1 Axes>"
      ]
     },
     "metadata": {},
     "output_type": "display_data"
    }
   ],
   "source": [
    "#●\tالقرص\n",
    "data = pd.Series((3,6,9,8,5,4,2,6,3,5,8))\n",
    "\n",
    "data.plot(kind='pie')  \n"
   ]
  },
  {
   "cell_type": "code",
   "execution_count": 13,
   "id": "da770ee2",
   "metadata": {},
   "outputs": [
    {
     "data": {
      "text/plain": [
       "<AxesSubplot:>"
      ]
     },
     "execution_count": 13,
     "metadata": {},
     "output_type": "execute_result"
    },
    {
     "data": {
      "image/png": "[encoded data removed]",
      "text/plain": [
       "<Figure size 432x288 with 1 Axes>"
      ]
     },
     "metadata": {
      "needs_background": "light"
     },
     "output_type": "display_data"
    }
   ],
   "source": [
    "#●\tالاعمدة\n",
    "data = pd.Series((3,6,9,8,5,4,2,6,3,5,8))\n",
    "\n",
    "data.plot(kind='bar')  \n"
   ]
  },
  {
   "cell_type": "code",
   "execution_count": 14,
   "id": "66e39d2c",
   "metadata": {},
   "outputs": [
    {
     "data": {
      "text/plain": [
       "<AxesSubplot:>"
      ]
     },
     "execution_count": 14,
     "metadata": {},
     "output_type": "execute_result"
    },
    {
     "data": {
      "image/png": "[encoded data removed]",
      "text/plain": [
       "<Figure size 432x288 with 1 Axes>"
      ]
     },
     "metadata": {
      "needs_background": "light"
     },
     "output_type": "display_data"
    }
   ],
   "source": [
    "#●\tاعمدة افقية\n",
    "\n",
    "\n",
    "data.plot(kind='barh')\n"
   ]
  },
  {
   "cell_type": "code",
   "execution_count": 15,
   "id": "8107a9d8",
   "metadata": {},
   "outputs": [
    {
     "data": {
      "text/plain": [
       "<AxesSubplot:ylabel='Frequency'>"
      ]
     },
     "execution_count": 15,
     "metadata": {},
     "output_type": "execute_result"
    },
    {
     "data": {
      "image/png": "[encoded data removed]",
      "text/plain": [
       "<Figure size 432x288 with 1 Axes>"
      ]
     },
     "metadata": {
      "needs_background": "light"
     },
     "output_type": "display_data"
    }
   ],
   "source": [
    "#●\tهيتسوجرام\n",
    "data = pd.Series((3,6,9,8,5,4,2,6,3,5,8))\n",
    "\n",
    "data.plot(kind='hist')\n"
   ]
  },
  {
   "cell_type": "code",
   "execution_count": 16,
   "id": "bf13ebbf",
   "metadata": {},
   "outputs": [
    {
     "data": {
      "text/plain": [
       "<AxesSubplot:>"
      ]
     },
     "execution_count": 16,
     "metadata": {},
     "output_type": "execute_result"
    },
    {
     "data": {
      "image/png": "[encoded data removed]",
      "text/plain": [
       "<Figure size 432x288 with 1 Axes>"
      ]
     },
     "metadata": {
      "needs_background": "light"
     },
     "output_type": "display_data"
    }
   ],
   "source": [
    "#●\tالصندوق\n",
    "data = pd.Series((3,6,9,8,5,4,2,6,3,5,8))\n",
    "\n",
    "data.plot(kind='box')\n"
   ]
  },
  {
   "cell_type": "code",
   "execution_count": 17,
   "id": "bba3f50b",
   "metadata": {},
   "outputs": [
    {
     "name": "stderr",
     "output_type": "stream",
     "text": [
      "C:\\Users\\adham\\anaconda3\\lib\\site-packages\\scipy\\__init__.py:146: UserWarning: A NumPy version >=1.16.5 and <1.23.0 is required for this version of SciPy (detected version 1.26.2\n",
      "  warnings.warn(f\"A NumPy version >={np_minversion} and <{np_maxversion}\"\n"
     ]
    },
    {
     "data": {
      "text/plain": [
       "<AxesSubplot:ylabel='Density'>"
      ]
     },
     "execution_count": 17,
     "metadata": {},
     "output_type": "execute_result"
    },
    {
     "data": {
      "image/png": "[encoded data removed]",
      "text/plain": [
       "<Figure size 432x288 with 1 Axes>"
      ]
     },
     "metadata": {
      "needs_background": "light"
     },
     "output_type": "display_data"
    }
   ],
   "source": [
    "#●\tالمنحني الطبيعي\n",
    "data = pd.Series((3,6,9,8,5,4,2,6,3,5,8))\n",
    "\n",
    "data.plot(kind='kde')\n"
   ]
  },
  {
   "cell_type": "code",
   "execution_count": 18,
   "id": "952a85ce",
   "metadata": {},
   "outputs": [
    {
     "data": {
      "text/plain": [
       "<AxesSubplot:ylabel='Density'>"
      ]
     },
     "execution_count": 18,
     "metadata": {},
     "output_type": "execute_result"
    },
    {
     "data": {
      "image/png": "[encoded data removed]",
      "text/plain": [
       "<Figure size 432x288 with 1 Axes>"
      ]
     },
     "metadata": {
      "needs_background": "light"
     },
     "output_type": "display_data"
    }
   ],
   "source": [
    "data.plot(kind='density')\n"
   ]
  },
  {
   "cell_type": "code",
   "execution_count": 19,
   "id": "4f32a392",
   "metadata": {},
   "outputs": [
    {
     "data": {
      "text/plain": [
       "<AxesSubplot:>"
      ]
     },
     "execution_count": 19,
     "metadata": {},
     "output_type": "execute_result"
    },
    {
     "data": {
      "image/png": "[encoded data removed]",
      "text/plain": [
       "<Figure size 432x288 with 1 Axes>"
      ]
     },
     "metadata": {
      "needs_background": "light"
     },
     "output_type": "display_data"
    }
   ],
   "source": [
    "#●\tالمساحة\n",
    "data.plot(kind='area')\n"
   ]
  },
  {
   "cell_type": "markdown",
   "id": "f42f385c",
   "metadata": {},
   "source": [
    "# أداة DataFrame"
   ]
  },
  {
   "cell_type": "raw",
   "id": "f0586edb",
   "metadata": {},
   "source": [
    "●\tهي أداة مخصصة لعمل جداول صفوف و اعمدة من البيانات\n",
    "●\tكتابة الجدول\n"
   ]
  },
  {
   "cell_type": "code",
   "execution_count": 20,
   "id": "27356447",
   "metadata": {},
   "outputs": [],
   "source": [
    "import pandas as pd\n",
    "import numpy as np\n"
   ]
  },
  {
   "cell_type": "code",
   "execution_count": 21,
   "id": "0fd773db",
   "metadata": {},
   "outputs": [
    {
     "data": {
      "text/html": [
       "<div>\n",
       "<style scoped>\n",
       "    .dataframe tbody tr th:only-of-type {\n",
       "        vertical-align: middle;\n",
       "    }\n",
       "\n",
       "    .dataframe tbody tr th {\n",
       "        vertical-align: top;\n",
       "    }\n",
       "\n",
       "    .dataframe thead th {\n",
       "        text-align: right;\n",
       "    }\n",
       "</style>\n",
       "<table border=\"1\" class=\"dataframe\">\n",
       "  <thead>\n",
       "    <tr style=\"text-align: right;\">\n",
       "      <th></th>\n",
       "      <th>one</th>\n",
       "      <th>two</th>\n",
       "      <th>three</th>\n",
       "      <th>four</th>\n",
       "      <th>five</th>\n",
       "      <th>six</th>\n",
       "    </tr>\n",
       "  </thead>\n",
       "  <tbody>\n",
       "    <tr>\n",
       "      <th>a</th>\n",
       "      <td>6</td>\n",
       "      <td>9</td>\n",
       "      <td>8</td>\n",
       "      <td>5</td>\n",
       "      <td>4</td>\n",
       "      <td>2</td>\n",
       "    </tr>\n",
       "    <tr>\n",
       "      <th>b</th>\n",
       "      <td>0</td>\n",
       "      <td>2</td>\n",
       "      <td>5</td>\n",
       "      <td>6</td>\n",
       "      <td>3</td>\n",
       "      <td>9</td>\n",
       "    </tr>\n",
       "    <tr>\n",
       "      <th>c</th>\n",
       "      <td>8</td>\n",
       "      <td>5</td>\n",
       "      <td>4</td>\n",
       "      <td>1</td>\n",
       "      <td>2</td>\n",
       "      <td>3</td>\n",
       "    </tr>\n",
       "    <tr>\n",
       "      <th>d</th>\n",
       "      <td>6</td>\n",
       "      <td>9</td>\n",
       "      <td>8</td>\n",
       "      <td>5</td>\n",
       "      <td>4</td>\n",
       "      <td>2</td>\n",
       "    </tr>\n",
       "    <tr>\n",
       "      <th>e</th>\n",
       "      <td>0</td>\n",
       "      <td>5</td>\n",
       "      <td>3</td>\n",
       "      <td>6</td>\n",
       "      <td>9</td>\n",
       "      <td>8</td>\n",
       "    </tr>\n",
       "    <tr>\n",
       "      <th>f</th>\n",
       "      <td>8</td>\n",
       "      <td>7</td>\n",
       "      <td>4</td>\n",
       "      <td>5</td>\n",
       "      <td>2</td>\n",
       "      <td>3</td>\n",
       "    </tr>\n",
       "  </tbody>\n",
       "</table>\n",
       "</div>"
      ],
      "text/plain": [
       "   one  two  three  four  five  six\n",
       "a    6    9      8     5     4    2\n",
       "b    0    2      5     6     3    9\n",
       "c    8    5      4     1     2    3\n",
       "d    6    9      8     5     4    2\n",
       "e    0    5      3     6     9    8\n",
       "f    8    7      4     5     2    3"
      ]
     },
     "execution_count": 21,
     "metadata": {},
     "output_type": "execute_result"
    }
   ],
   "source": [
    "myarray = np.array([[6,9,8,5,4,2],[0,2,5,6,3,9],\n",
    "                    [8,5,4,1,2,3],[6,9,8,5,4,2],\n",
    "                    [0,5,3,6,9,8],[8,7,4,5,2,3]])\n",
    "\n",
    "rownames = ['a', 'b','c','d','e','f']\n",
    "colnames = ['one', 'two', 'three','four','five','six']\n",
    "\n",
    "df = pd.DataFrame(myarray, index=rownames, columns=colnames)\n",
    "\n",
    "df\n"
   ]
  },
  {
   "cell_type": "code",
   "execution_count": 22,
   "id": "35dd60f4",
   "metadata": {},
   "outputs": [
    {
     "name": "stdout",
     "output_type": "stream",
     "text": [
      "   Math  Physics  French  Chemistry\n",
      "a     1        6      11         16\n",
      "b     2        7      12         17\n",
      "c     3        8      13         18\n",
      "d     4        9      14         19\n",
      "e     5       10      15         20\n"
     ]
    }
   ],
   "source": [
    "#●\tباستخدام القاموس\n",
    "w = pd.Series({'a':1 ,'b':2 ,'c':3 ,'d':4 ,'e':5})\n",
    "x = pd.Series({'a':6 ,'b':7 ,'c':8 ,'d':9 ,'e':10})\n",
    "y = pd.Series({'a':11 ,'b':12 ,'c':13 ,'d':14 ,'e':15})\n",
    "z = pd.Series({'a':16 ,'b':17 ,'c':18 ,'d':19 ,'e':20})\n",
    "\n",
    "\n",
    "grades = pd.DataFrame({'Math':w,'Physics':x,'French':y,'Chemistry':z})\n",
    "\n",
    "print(grades)\n"
   ]
  },
  {
   "cell_type": "code",
   "execution_count": 25,
   "id": "67b5a447",
   "metadata": {},
   "outputs": [
    {
     "name": "stdout",
     "output_type": "stream",
     "text": [
      "   Math  Physics  French  Chemistry\n",
      "a     1        6      11         16\n",
      "b     2        7      12         17\n",
      "c     3        8      13         18\n",
      "d     4        9      14         19\n",
      "e     5       10      15         20\n",
      "a    16\n",
      "b    17\n",
      "c    18\n",
      "d    19\n",
      "e    20\n",
      "Name: Chemistry, dtype: int64\n",
      "a    11\n",
      "b    12\n",
      "c    13\n",
      "d    14\n",
      "e    15\n",
      "Name: French, dtype: int64\n"
     ]
    }
   ],
   "source": [
    "#●\tاظهار عمود محدد\n",
    "w = pd.Series({'a':1 ,'b':2 ,'c':3 ,'d':4 ,'e':5})\n",
    "x = pd.Series({'a':6 ,'b':7 ,'c':8 ,'d':9 ,'e':10})\n",
    "y = pd.Series({'a':11 ,'b':12 ,'c':13 ,'d':14 ,'e':15})\n",
    "z = pd.Series({'a':16 ,'b':17 ,'c':18 ,'d':19 ,'e':20})\n",
    "\n",
    "\n",
    "grades = pd.DataFrame({'Math':w,'Physics':x,'French':y,'Chemistry':z})\n",
    "print(grades)\n",
    "print(grades['Chemistry'])\n",
    "print(grades['French'])"
   ]
  },
  {
   "cell_type": "code",
   "execution_count": 26,
   "id": "5cefd9df",
   "metadata": {},
   "outputs": [
    {
     "name": "stdout",
     "output_type": "stream",
     "text": [
      "            a   b   c   d   e\n",
      "Math        1   2   3   4   5\n",
      "Physics     6   7   8   9  10\n",
      "French     11  12  13  14  15\n",
      "Chemistry  16  17  18  19  20\n"
     ]
    }
   ],
   "source": [
    "#●\tاظهارها بالعكس (مقلوب المصفوفة)\n",
    "w = pd.Series({'a':1 ,'b':2 ,'c':3 ,'d':4 ,'e':5})\n",
    "x = pd.Series({'a':6 ,'b':7 ,'c':8 ,'d':9 ,'e':10})\n",
    "y = pd.Series({'a':11 ,'b':12 ,'c':13 ,'d':14 ,'e':15})\n",
    "z = pd.Series({'a':16 ,'b':17 ,'c':18 ,'d':19 ,'e':20})\n",
    "\n",
    "grades = pd.DataFrame({'Math':w,'Physics':x,'French':y,'Chemistry':z})\n",
    "\n",
    "print(grades.T)\n"
   ]
  },
  {
   "cell_type": "code",
   "execution_count": 28,
   "id": "2e1de7c0",
   "metadata": {},
   "outputs": [
    {
     "data": {
      "text/html": [
       "<div>\n",
       "<style scoped>\n",
       "    .dataframe tbody tr th:only-of-type {\n",
       "        vertical-align: middle;\n",
       "    }\n",
       "\n",
       "    .dataframe tbody tr th {\n",
       "        vertical-align: top;\n",
       "    }\n",
       "\n",
       "    .dataframe thead th {\n",
       "        text-align: right;\n",
       "    }\n",
       "</style>\n",
       "<table border=\"1\" class=\"dataframe\">\n",
       "  <thead>\n",
       "    <tr style=\"text-align: right;\">\n",
       "      <th></th>\n",
       "      <th>Math</th>\n",
       "      <th>Physics</th>\n",
       "      <th>French</th>\n",
       "      <th>Chemistry</th>\n",
       "    </tr>\n",
       "  </thead>\n",
       "  <tbody>\n",
       "    <tr>\n",
       "      <th>a</th>\n",
       "      <td>1</td>\n",
       "      <td>6</td>\n",
       "      <td>11</td>\n",
       "      <td>16</td>\n",
       "    </tr>\n",
       "    <tr>\n",
       "      <th>b</th>\n",
       "      <td>2</td>\n",
       "      <td>7</td>\n",
       "      <td>12</td>\n",
       "      <td>17</td>\n",
       "    </tr>\n",
       "    <tr>\n",
       "      <th>c</th>\n",
       "      <td>3</td>\n",
       "      <td>8</td>\n",
       "      <td>13</td>\n",
       "      <td>18</td>\n",
       "    </tr>\n",
       "    <tr>\n",
       "      <th>d</th>\n",
       "      <td>4</td>\n",
       "      <td>9</td>\n",
       "      <td>14</td>\n",
       "      <td>19</td>\n",
       "    </tr>\n",
       "    <tr>\n",
       "      <th>e</th>\n",
       "      <td>5</td>\n",
       "      <td>10</td>\n",
       "      <td>15</td>\n",
       "      <td>20</td>\n",
       "    </tr>\n",
       "  </tbody>\n",
       "</table>\n",
       "</div>"
      ],
      "text/plain": [
       "   Math  Physics  French  Chemistry\n",
       "a     1        6      11         16\n",
       "b     2        7      12         17\n",
       "c     3        8      13         18\n",
       "d     4        9      14         19\n",
       "e     5       10      15         20"
      ]
     },
     "execution_count": 28,
     "metadata": {},
     "output_type": "execute_result"
    }
   ],
   "source": [
    "#●\tاظهار القيم والمفاتيح\n",
    "w = pd.Series({'a':1 ,'b':2 ,'c':3 ,'d':4 ,'e':5})\n",
    "x = pd.Series({'a':6 ,'b':7 ,'c':8 ,'d':9 ,'e':10})\n",
    "y = pd.Series({'a':11 ,'b':12 ,'c':13 ,'d':14 ,'e':15})\n",
    "z = pd.Series({'a':16 ,'b':17 ,'c':18 ,'d':19 ,'e':20})\n",
    "\n",
    "\n",
    "grades = pd.DataFrame({'Math':w,'Physics':x,'French':y,'Chemistry':z})\n",
    "# print(grades.keys())\n",
    "# print(grades.values)\n",
    "grades"
   ]
  },
  {
   "cell_type": "code",
   "execution_count": 29,
   "id": "c9aa0ea9",
   "metadata": {},
   "outputs": [
    {
     "name": "stdout",
     "output_type": "stream",
     "text": [
      "True\n",
      "False\n",
      "True\n",
      "False\n"
     ]
    }
   ],
   "source": [
    "#●\tمعرفة هل القيمة كذا موجودة او لا\n",
    "w = pd.Series({'a':1 ,'b':2 ,'c':3 ,'d':4 ,'e':5})\n",
    "x = pd.Series({'a':6 ,'b':7 ,'c':8 ,'d':9 ,'e':10})\n",
    "y = pd.Series({'a':11 ,'b':12 ,'c':13 ,'d':14 ,'e':15})\n",
    "z = pd.Series({'a':16 ,'b':17 ,'c':18 ,'d':19 ,'e':20})\n",
    "\n",
    "grades = pd.DataFrame({'Math':w,'Physics':x,'French':y,'Chemistry':z})\n",
    "\n",
    "print('Math' in grades.keys())\n",
    "print('math' in grades.keys())\n",
    "print(12 in grades.values)\n",
    "print(55 in grades.values)\n"
   ]
  },
  {
   "cell_type": "code",
   "execution_count": 30,
   "id": "960c1ec6",
   "metadata": {},
   "outputs": [
    {
     "name": "stdout",
     "output_type": "stream",
     "text": [
      "a  Math          1\n",
      "   Physics       6\n",
      "   French       11\n",
      "   Chemistry    16\n",
      "b  Math          2\n",
      "   Physics       7\n",
      "   French       12\n",
      "   Chemistry    17\n",
      "c  Math          3\n",
      "   Physics       8\n",
      "   French       13\n",
      "   Chemistry    18\n",
      "d  Math          4\n",
      "   Physics       9\n",
      "   French       14\n",
      "   Chemistry    19\n",
      "e  Math          5\n",
      "   Physics      10\n",
      "   French       15\n",
      "   Chemistry    20\n",
      "dtype: int64\n"
     ]
    }
   ],
   "source": [
    "#●\tفك القيم\n",
    "w = pd.Series({'a':1 ,'b':2 ,'c':3 ,'d':4 ,'e':5})\n",
    "x = pd.Series({'a':6 ,'b':7 ,'c':8 ,'d':9 ,'e':10})\n",
    "y = pd.Series({'a':11 ,'b':12 ,'c':13 ,'d':14 ,'e':15})\n",
    "z = pd.Series({'a':16 ,'b':17 ,'c':18 ,'d':19 ,'e':20})\n",
    "\n",
    "grades = pd.DataFrame({'Math':w,'Physics':x,'French':y,'Chemistry':z})\n",
    "\n",
    "print(grades.stack())\n"
   ]
  },
  {
   "cell_type": "code",
   "execution_count": 31,
   "id": "6babb7cb",
   "metadata": {},
   "outputs": [
    {
     "name": "stdout",
     "output_type": "stream",
     "text": [
      "   Math  Physics\n",
      "a     1        6\n",
      "b     2        7\n",
      "c     3        8\n"
     ]
    }
   ],
   "source": [
    "#●\tاظهار قيم محددة بالرقم\n",
    "w = pd.Series({'a':1 ,'b':2 ,'c':3 ,'d':4 ,'e':5})\n",
    "x = pd.Series({'a':6 ,'b':7 ,'c':8 ,'d':9 ,'e':10})\n",
    "y = pd.Series({'a':11 ,'b':12 ,'c':13 ,'d':14 ,'e':15})\n",
    "z = pd.Series({'a':16 ,'b':17 ,'c':18 ,'d':19 ,'e':20})\n",
    "\n",
    "grades = pd.DataFrame({'Math':w,'Physics':x,'French':y,'Chemistry':z})\n",
    "\n",
    "print(grades.iloc[ : 3 , : 2 ])\n"
   ]
  },
  {
   "cell_type": "code",
   "execution_count": 32,
   "id": "a34e96f7",
   "metadata": {},
   "outputs": [
    {
     "name": "stdout",
     "output_type": "stream",
     "text": [
      "   Math  Physics  French  Chemistry\n",
      "b     2        7      12         17\n",
      "c     3        8      13         18\n"
     ]
    }
   ],
   "source": [
    "#●\tاظهار قيم بالاسم\n",
    "w = pd.Series({'a':1 ,'b':2 ,'c':3 ,'d':4 ,'e':5})\n",
    "x = pd.Series({'a':6 ,'b':7 ,'c':8 ,'d':9 ,'e':10})\n",
    "y = pd.Series({'a':11 ,'b':12 ,'c':13 ,'d':14 ,'e':15})\n",
    "z = pd.Series({'a':16 ,'b':17 ,'c':18 ,'d':19 ,'e':20})\n",
    "\n",
    "grades = pd.DataFrame({'Math':w,'Physics':x,'French':y,'Chemistry':z})\n",
    "\n",
    "print(grades.loc['b':'c', 'Math': ])\n"
   ]
  },
  {
   "cell_type": "code",
   "execution_count": 33,
   "id": "de2b37b3",
   "metadata": {},
   "outputs": [
    {
     "name": "stdout",
     "output_type": "stream",
     "text": [
      "   Math  Physics  French  Chemistry\n",
      "d     4        9      14         19\n",
      "e     5       10      15         20\n"
     ]
    }
   ],
   "source": [
    "#●\tاظهار قيم بالشرط\n",
    "w = pd.Series({'a':1 ,'b':2 ,'c':3 ,'d':4 ,'e':5})\n",
    "x = pd.Series({'a':6 ,'b':7 ,'c':8 ,'d':9 ,'e':10})\n",
    "y = pd.Series({'a':11 ,'b':12 ,'c':13 ,'d':14 ,'e':15})\n",
    "z = pd.Series({'a':16 ,'b':17 ,'c':18 ,'d':19 ,'e':20})\n",
    "\n",
    "grades = pd.DataFrame({'Math':w,'Physics':x,'French':y,'Chemistry':z})\n",
    "\n",
    "print(grades.loc[grades.Math >3])\n"
   ]
  },
  {
   "cell_type": "code",
   "execution_count": 34,
   "id": "bd2e5f49",
   "metadata": {},
   "outputs": [
    {
     "name": "stdout",
     "output_type": "stream",
     "text": [
      "   French  Math\n",
      "d      14     4\n",
      "e      15     5\n"
     ]
    }
   ],
   "source": [
    "#●\tاظهار اعمدة بشرط محدد\n",
    "w = pd.Series({'a':1 ,'b':2 ,'c':3 ,'d':4 ,'e':5})\n",
    "x = pd.Series({'a':6 ,'b':7 ,'c':8 ,'d':9 ,'e':10})\n",
    "y = pd.Series({'a':11 ,'b':12 ,'c':13 ,'d':14 ,'e':15})\n",
    "z = pd.Series({'a':16 ,'b':17 ,'c':18 ,'d':19 ,'e':20})\n",
    "\n",
    "grades = pd.DataFrame({'Math':w,'Physics':x,'French':y,'Chemistry':z})\n",
    "\n",
    "print(grades.loc[grades.Math >3,['French' ,'Math']])\n"
   ]
  },
  {
   "cell_type": "code",
   "execution_count": 35,
   "id": "4d4e7941",
   "metadata": {},
   "outputs": [
    {
     "name": "stdout",
     "output_type": "stream",
     "text": [
      "Index(['Math', 'Physics', 'French', 'Chemistry'], dtype='object')\n"
     ]
    }
   ],
   "source": [
    "#●\tاظهار اعمدة\n",
    "w = pd.Series({'a':1 ,'b':2 ,'c':3 ,'d':4 ,'e':5})\n",
    "x = pd.Series({'a':6 ,'b':7 ,'c':8 ,'d':9 ,'e':10})\n",
    "y = pd.Series({'a':11 ,'b':12 ,'c':13 ,'d':14 ,'e':15})\n",
    "z = pd.Series({'a':16 ,'b':17 ,'c':18 ,'d':19 ,'e':20})\n",
    "\n",
    "grades = pd.DataFrame({'Math':w,'Physics':x,'French':y,'Chemistry':z})\n",
    "\n",
    "print(grades.columns)\n"
   ]
  },
  {
   "cell_type": "code",
   "execution_count": 36,
   "id": "24126651",
   "metadata": {},
   "outputs": [
    {
     "name": "stdout",
     "output_type": "stream",
     "text": [
      "Index(['a', 'b', 'c', 'd', 'e'], dtype='object')\n"
     ]
    }
   ],
   "source": [
    "#●\tاظهار صفوف\n",
    "w = pd.Series({'a':1 ,'b':2 ,'c':3 ,'d':4 ,'e':5})\n",
    "x = pd.Series({'a':6 ,'b':7 ,'c':8 ,'d':9 ,'e':10})\n",
    "y = pd.Series({'a':11 ,'b':12 ,'c':13 ,'d':14 ,'e':15})\n",
    "z = pd.Series({'a':16 ,'b':17 ,'c':18 ,'d':19 ,'e':20})\n",
    "\n",
    "grades = pd.DataFrame({'Math':w,'Physics':x,'French':y,'Chemistry':z})\n",
    "\n",
    "print(grades.index)\n"
   ]
  },
  {
   "cell_type": "code",
   "execution_count": 37,
   "id": "fe83b3ea",
   "metadata": {},
   "outputs": [
    {
     "name": "stdout",
     "output_type": "stream",
     "text": [
      "a    1\n",
      "b    2\n",
      "c    3\n",
      "d    4\n",
      "e    5\n",
      "Name: Math, dtype: int64\n"
     ]
    }
   ],
   "source": [
    "#●\tاظهار عمود محدد\n",
    "w = pd.Series({'a':1 ,'b':2 ,'c':3 ,'d':4 ,'e':5})\n",
    "x = pd.Series({'a':6 ,'b':7 ,'c':8 ,'d':9 ,'e':10})\n",
    "y = pd.Series({'a':11 ,'b':12 ,'c':13 ,'d':14 ,'e':15})\n",
    "z = pd.Series({'a':16 ,'b':17 ,'c':18 ,'d':19 ,'e':20})\n",
    "\n",
    "grades = pd.DataFrame({'Math':w,'Physics':x,'French':y,'Chemistry':z})\n",
    "\n",
    "print(grades['Math'])\n"
   ]
  },
  {
   "cell_type": "code",
   "execution_count": 38,
   "id": "a36dab37",
   "metadata": {},
   "outputs": [
    {
     "name": "stdout",
     "output_type": "stream",
     "text": [
      "   Math  Physics  French  Chemistry\n",
      "e     5       10      15         20\n",
      "d     4        9      14         19\n",
      "c     3        8      13         18\n",
      "b     2        7      12         17\n",
      "a     1        6      11         16\n",
      "   Math  Physics  French  Chemistry\n",
      "a     1        6      11         16\n",
      "b     2        7      12         17\n",
      "c     3        8      13         18\n",
      "d     4        9      14         19\n",
      "e     5       10      15         20\n"
     ]
    }
   ],
   "source": [
    "#●\tترتيب صفوف\n",
    "w = pd.Series({'a':1 ,'b':2 ,'c':3 ,'d':4 ,'e':5})\n",
    "x = pd.Series({'a':6 ,'b':7 ,'c':8 ,'d':9 ,'e':10})\n",
    "y = pd.Series({'a':11 ,'b':12 ,'c':13 ,'d':14 ,'e':15})\n",
    "z = pd.Series({'a':16 ,'b':17 ,'c':18 ,'d':19 ,'e':20})\n",
    "\n",
    "grades = pd.DataFrame({'Math':w,'Physics':x,'French':y,'Chemistry':z})\n",
    "\n",
    "print(grades.sort_values(['Math'],ascending= False))\n",
    "print(grades.sort_values(['French'],ascending= True))\n"
   ]
  },
  {
   "cell_type": "code",
   "execution_count": 39,
   "id": "a257850d",
   "metadata": {},
   "outputs": [
    {
     "name": "stdout",
     "output_type": "stream",
     "text": [
      "Math          5\n",
      "Physics      10\n",
      "French       15\n",
      "Chemistry    20\n",
      "dtype: int64\n",
      "Math          1\n",
      "Physics       6\n",
      "French       11\n",
      "Chemistry    16\n",
      "dtype: int64\n",
      "Math          3.0\n",
      "Physics       8.0\n",
      "French       13.0\n",
      "Chemistry    18.0\n",
      "dtype: float64\n",
      "Math         1.581139\n",
      "Physics      1.581139\n",
      "French       1.581139\n",
      "Chemistry    1.581139\n",
      "dtype: float64\n"
     ]
    }
   ],
   "source": [
    "#●\tاظهار قيم احصائية\n",
    "w = pd.Series({'a':1 ,'b':2 ,'c':3 ,'d':4 ,'e':5})\n",
    "x = pd.Series({'a':6 ,'b':7 ,'c':8 ,'d':9 ,'e':10})\n",
    "y = pd.Series({'a':11 ,'b':12 ,'c':13 ,'d':14 ,'e':15})\n",
    "z = pd.Series({'a':16 ,'b':17 ,'c':18 ,'d':19 ,'e':20})\n",
    "\n",
    "grades = pd.DataFrame({'Math':w,'Physics':x,'French':y,'Chemistry':z})\n",
    "\n",
    "print(grades.max())\n",
    "print(grades.min())\n",
    "print(grades.mean())\n",
    "print(grades.std())\n"
   ]
  },
  {
   "cell_type": "code",
   "execution_count": 40,
   "id": "0d3eb1df",
   "metadata": {},
   "outputs": [
    {
     "name": "stdout",
     "output_type": "stream",
     "text": [
      "5\n",
      "11\n",
      "8.0\n",
      "1.5811388300841898\n"
     ]
    }
   ],
   "source": [
    "#●\tاظهار قيم احصائية لعمود محدد\n",
    "w = pd.Series({'a':1 ,'b':2 ,'c':3 ,'d':4 ,'e':5})\n",
    "x = pd.Series({'a':6 ,'b':7 ,'c':8 ,'d':9 ,'e':10})\n",
    "y = pd.Series({'a':11 ,'b':12 ,'c':13 ,'d':14 ,'e':15})\n",
    "z = pd.Series({'a':16 ,'b':17 ,'c':18 ,'d':19 ,'e':20})\n",
    "\n",
    "grades = pd.DataFrame({'Math':w,'Physics':x,'French':y,'Chemistry':z})\n",
    "\n",
    "print(grades['Math'].max())\n",
    "print(grades['French'].min())\n",
    "print(grades['Physics'].mean())\n",
    "print(grades['Chemistry'].std())\n"
   ]
  },
  {
   "cell_type": "code",
   "execution_count": 41,
   "id": "60846adf",
   "metadata": {},
   "outputs": [
    {
     "name": "stdout",
     "output_type": "stream",
     "text": [
      "          A         B         C\n",
      "0  0.822123  0.639666  0.073322\n",
      "1  0.706410  0.991529  0.435975\n",
      "2  0.832879  0.393329  0.295526\n",
      "3  0.639055  0.482398  0.842915\n",
      "4  0.269993  0.762887  0.744952\n",
      "          A         B         C\n",
      "A  1.000000 -0.325413 -0.723348\n",
      "B -0.325413  1.000000  0.018755\n",
      "C -0.723348  0.018755  1.000000\n"
     ]
    }
   ],
   "source": [
    "#●\tمعامل الارتباط\n",
    "df = pd.DataFrame(np.random.rand(5, 3), columns=['A', 'B', 'C'])\n",
    "\n",
    "print(df)\n",
    "print(df.corr())\n"
   ]
  },
  {
   "cell_type": "code",
   "execution_count": 42,
   "id": "8e305362",
   "metadata": {},
   "outputs": [
    {
     "name": "stdout",
     "output_type": "stream",
     "text": [
      "          A         B         C\n",
      "0  0.833506  0.358529  0.256007\n",
      "1  0.387156  0.941135  0.070838\n",
      "2  0.088570  0.018154  0.079232\n",
      "3  0.031256  0.750423  0.185082\n",
      "4  0.471113  0.355879  0.206528\n",
      "A    0.603588\n",
      "B    0.068931\n",
      "C   -0.152779\n",
      "dtype: float64\n"
     ]
    }
   ],
   "source": [
    "#●\tقيمة الانحراف\n",
    "df = pd.DataFrame(np.random.rand(5, 3), columns=['A', 'B', 'C'])\n",
    "\n",
    "print(df)\n",
    "print(df.skew())\n"
   ]
  },
  {
   "cell_type": "code",
   "execution_count": 43,
   "id": "e0f195bf",
   "metadata": {},
   "outputs": [
    {
     "name": "stdout",
     "output_type": "stream",
     "text": [
      "   square\n",
      "0       0\n",
      "1       1\n",
      "2       4\n",
      "3       9\n",
      "4      16\n",
      "5      25\n",
      "6      36\n",
      "7      49\n",
      "8      64\n",
      "9      81\n"
     ]
    }
   ],
   "source": [
    "#●\tكتابة جدول بدالة تربيعية \n",
    "data = [{'square': i**2} for i in range(10)]\n",
    "d = pd.DataFrame(data)\n",
    "\n",
    "print(d)\n"
   ]
  },
  {
   "cell_type": "code",
   "execution_count": 44,
   "id": "18e4a242",
   "metadata": {},
   "outputs": [
    {
     "name": "stdout",
     "output_type": "stream",
     "text": [
      "   square  cube      root\n",
      "0       0     0  0.000000\n",
      "1       1     1  1.000000\n",
      "2       4     8  1.414214\n",
      "3       9    27  1.732051\n",
      "4      16    64  2.000000\n",
      "5      25   125  2.236068\n",
      "6      36   216  2.449490\n",
      "7      49   343  2.645751\n",
      "8      64   512  2.828427\n",
      "9      81   729  3.000000\n"
     ]
    }
   ],
   "source": [
    "#●\tعدد من الدوال\n",
    "data = [{'square': i**2,'cube': i**3\n",
    "         ,'root': i**0.5} for i in range(10)]\n",
    "\n",
    "d = pd.DataFrame(data)\n",
    "\n",
    "print(d)\n"
   ]
  },
  {
   "cell_type": "code",
   "execution_count": 45,
   "id": "7417cab5",
   "metadata": {},
   "outputs": [
    {
     "name": "stdout",
     "output_type": "stream",
     "text": [
      "   a  b\n",
      "0  1  2\n",
      "1  3  4\n",
      "2  5  6\n"
     ]
    }
   ],
   "source": [
    "#●\tمزج القواميس\n",
    "d = pd.DataFrame([{'a':1,'b':2},{'a':3,'b':4},{'a':5,'b':6}])\n",
    "\n",
    "print(d)\n"
   ]
  },
  {
   "cell_type": "code",
   "execution_count": 46,
   "id": "58236ce0",
   "metadata": {},
   "outputs": [
    {
     "name": "stdout",
     "output_type": "stream",
     "text": [
      "     a    b    c    d    e\n",
      "0  1.0  2.0  NaN  NaN  NaN\n",
      "1  NaN  3.0  4.0  NaN  NaN\n",
      "2  NaN  NaN  NaN  5.0  6.0\n"
     ]
    }
   ],
   "source": [
    "#●\tمزج القواميس مع وجود فراغات \n",
    "d = pd.DataFrame([{'a':1,'b':2},{'b':3,'c':4},{'d':5,'e':6}])#NAN\n",
    "\n",
    "print(d)\n"
   ]
  },
  {
   "cell_type": "code",
   "execution_count": 47,
   "id": "405d3a8d",
   "metadata": {},
   "outputs": [
    {
     "name": "stdout",
     "output_type": "stream",
     "text": [
      "       food     drink\n",
      "a  0.224435  0.122932\n",
      "b  0.515772  0.017953\n",
      "c  0.937085  0.513308\n"
     ]
    }
   ],
   "source": [
    "#●\tكتابة جدول\n",
    "d =pd.DataFrame(np.random.rand(3, 2),\n",
    "                columns=['food', 'drink'],index=['a', 'b', 'c'])\n",
    "print(d)\n"
   ]
  },
  {
   "cell_type": "code",
   "execution_count": 48,
   "id": "8a399a8b",
   "metadata": {},
   "outputs": [
    {
     "name": "stdout",
     "output_type": "stream",
     "text": [
      "   Math  Physics  French  Chemistry  Total\n",
      "a     1        6      11         16   0.34\n",
      "b     2        7      12         17   0.38\n",
      "c     3        8      13         18   0.42\n",
      "d     4        9      14         19   0.46\n",
      "e     5       10      15         20   0.50\n"
     ]
    }
   ],
   "source": [
    "#●\tعمليات حسابية مع اعمدة\n",
    "w = pd.Series({'a':1 ,'b':2 ,'c':3 ,'d':4 ,'e':5})\n",
    "x = pd.Series({'a':6 ,'b':7 ,'c':8 ,'d':9 ,'e':10})\n",
    "y = pd.Series({'a':11 ,'b':12 ,'c':13 ,'d':14 ,'e':15})\n",
    "z = pd.Series({'a':16 ,'b':17 ,'c':18 ,'d':19 ,'e':20})\n",
    "\n",
    "grades = pd.DataFrame({'Math':w,'Physics':x,'French':y,'Chemistry':z})\n",
    "\n",
    "grades['Total'] = (grades['Math'] + grades['French'] + \n",
    "      grades['Chemistry']+ grades['Physics']) /100\n",
    "\n",
    "\n",
    "print(grades)\n"
   ]
  },
  {
   "cell_type": "code",
   "execution_count": 49,
   "id": "421ea075",
   "metadata": {},
   "outputs": [
    {
     "name": "stdout",
     "output_type": "stream",
     "text": [
      "          A         B         C\n",
      "0  0.760871  0.228064  0.752006\n",
      "1  0.951967  0.744698  0.206670\n",
      "2  0.875316  0.638788  0.722069\n",
      "3  0.219902  0.280270  0.333603\n",
      "4  0.222803  0.265840  0.383520\n",
      "          A        B         C\n",
      "3  0.219902  0.28027  0.333603\n",
      "4  0.222803  0.26584  0.383520\n"
     ]
    }
   ],
   "source": [
    "#●\tاظهار صفوف بشروط محددة  \n",
    "df = pd.DataFrame(np.random.rand(5, 3), columns=['A', 'B', 'C'])\n",
    "\n",
    "result = df.query('A < 0.5 and B < 0.5')\n",
    "\n",
    "print(df)\n",
    "print(result)\n"
   ]
  },
  {
   "cell_type": "code",
   "execution_count": 50,
   "id": "eea50f87",
   "metadata": {},
   "outputs": [
    {
     "name": "stdout",
     "output_type": "stream",
     "text": [
      "  employee        group\n",
      "0      Bob   Accounting\n",
      "1     Jake  Engineering\n",
      "2     Lisa  Engineering\n",
      "3      Sue           HR\n",
      "  employee  hire_date\n",
      "0     Lisa       2004\n",
      "1      Bob       2008\n",
      "2     Jake       2012\n",
      "3      Sue       2014\n",
      "--------------------------\n",
      "  employee        group  hire_date\n",
      "0      Bob   Accounting       2008\n",
      "1     Jake  Engineering       2012\n",
      "2     Lisa  Engineering       2004\n",
      "3      Sue           HR       2014\n"
     ]
    }
   ],
   "source": [
    "#●\tمزج الجداول\n",
    "df1 = pd.DataFrame({'employee': ['Bob', 'Jake', 'Lisa', 'Sue'],\n",
    "                    'group': ['Accounting', 'Engineering',\n",
    "                              'Engineering', 'HR']})\n",
    "\n",
    "df2 = pd.DataFrame({'employee': ['Lisa', 'Bob', 'Jake', 'Sue'],\n",
    "                    'hire_date': [2004, 2008, 2012, 2014]})\n",
    "print(df1)\n",
    "print(df2)\n",
    "\n",
    "df3 = pd.merge(df1, df2)\n",
    "print('--------------------------')\n",
    "print(df3)\n"
   ]
  },
  {
   "cell_type": "code",
   "execution_count": 51,
   "id": "ad47fe6c",
   "metadata": {},
   "outputs": [
    {
     "name": "stdout",
     "output_type": "stream",
     "text": [
      "  employee        group  hire_date\n",
      "0      Bob   Accounting       2008\n",
      "1     Jake  Engineering       2012\n",
      "2     Lisa  Engineering       2004\n",
      "3      Sue           HR       2014\n",
      "--------------------------\n",
      "         group supervisor\n",
      "0   Accounting      Carly\n",
      "1  Engineering      Guido\n",
      "2           HR      Steve\n",
      "--------------------------\n",
      "  employee        group  hire_date supervisor\n",
      "0      Bob   Accounting       2008      Carly\n",
      "1     Jake  Engineering       2012      Guido\n",
      "2     Lisa  Engineering       2004      Guido\n",
      "3      Sue           HR       2014      Steve\n"
     ]
    }
   ],
   "source": [
    "#●\tمزج الجداول\n",
    "df1 = pd.DataFrame({'employee': ['Bob', 'Jake', 'Lisa', 'Sue'],\n",
    "                    'group': ['Accounting', 'Engineering',\n",
    "                              'Engineering', 'HR']})\n",
    "\n",
    "df2 = pd.DataFrame({'employee': ['Lisa', 'Bob', 'Jake', 'Sue'],\n",
    "                    'hire_date': [2004, 2008, 2012, 2014]})\n",
    "\n",
    "df3 = pd.merge(df1, df2)\n",
    "print(df3)\n",
    "print('--------------------------')\n",
    "\n",
    "df4 = pd.DataFrame({'group': ['Accounting', 'Engineering', 'HR'],\n",
    "                    'supervisor': ['Carly', 'Guido', 'Steve']})\n",
    "df5 = pd.merge(df3, df4)\n",
    "print(df4)\n",
    "print('--------------------------')\n",
    "print(df5)\n"
   ]
  },
  {
   "cell_type": "code",
   "execution_count": 52,
   "id": "b0c761b7",
   "metadata": {},
   "outputs": [
    {
     "name": "stdout",
     "output_type": "stream",
     "text": [
      "  employee        group\n",
      "0      Bob   Accounting\n",
      "1     Jake  Engineering\n",
      "2     Lisa  Engineering\n",
      "3      Sue           HR\n",
      "   name  salary\n",
      "0   Bob   70000\n",
      "1  Jake   80000\n",
      "2  Lisa  120000\n",
      "3   Sue   90000\n",
      "  employee        group  name  salary\n",
      "0      Bob   Accounting   Bob   70000\n",
      "1     Jake  Engineering  Jake   80000\n",
      "2     Lisa  Engineering  Lisa  120000\n",
      "3      Sue           HR   Sue   90000\n"
     ]
    }
   ],
   "source": [
    "df1 = pd.DataFrame({'employee': ['Bob', 'Jake', 'Lisa', 'Sue'],\n",
    "                    'group': ['Accounting', 'Engineering', \n",
    "                              'Engineering', 'HR']})\n",
    "df2 = pd.DataFrame({'employee': ['Lisa', 'Bob', 'Jake', 'Sue'],\n",
    "                    'hire_date': [2004, 2008, 2012, 2014]})\n",
    "\n",
    "df3 = pd.DataFrame({'name': ['Bob', 'Jake', 'Lisa', 'Sue'],\n",
    "                    'salary': [70000, 80000, 120000, 90000]})\n",
    "\n",
    "print(df1)\n",
    "print(df3)\n",
    "print(pd.merge(df1, df3, left_on=\"employee\", right_on=\"name\"))\n"
   ]
  },
  {
   "cell_type": "code",
   "execution_count": 53,
   "id": "c0ac63bf",
   "metadata": {},
   "outputs": [
    {
     "name": "stdout",
     "output_type": "stream",
     "text": [
      "  employee        group\n",
      "0      Bob   Accounting\n",
      "1     Jake  Engineering\n",
      "2     Lisa  Engineering\n",
      "3      Sue           HR\n",
      "   name  salary\n",
      "0   Bob   70000\n",
      "1  Jake   80000\n",
      "2  Lisa  120000\n",
      "3   Sue   90000\n",
      "  employee        group  salary\n",
      "0      Bob   Accounting   70000\n",
      "1     Jake  Engineering   80000\n",
      "2     Lisa  Engineering  120000\n",
      "3      Sue           HR   90000\n"
     ]
    }
   ],
   "source": [
    "#●\tحذف اعمدة\n",
    "df1 = pd.DataFrame({'employee': ['Bob', 'Jake', 'Lisa', 'Sue'],\n",
    "                    'group': ['Accounting', 'Engineering', \n",
    "                              'Engineering', 'HR']})\n",
    "df2 = pd.DataFrame({'employee': ['Lisa', 'Bob', 'Jake', 'Sue'],\n",
    "                    'hire_date': [2004, 2008, 2012, 2014]})\n",
    "\n",
    "df3 = pd.DataFrame({'name': ['Bob', 'Jake', 'Lisa', 'Sue'],\n",
    "                    'salary': [70000, 80000, 120000, 90000]})\n",
    "\n",
    "print(df1)\n",
    "print(df3)\n",
    "print(pd.merge(df1, df3, left_on=\"employee\",\n",
    "               right_on=\"name\").drop('name', axis=1))\n"
   ]
  },
  {
   "cell_type": "code",
   "execution_count": 54,
   "id": "7a56cc20",
   "metadata": {},
   "outputs": [
    {
     "name": "stdout",
     "output_type": "stream",
     "text": [
      "  employee        group\n",
      "0      Bob   Accounting\n",
      "1     Jake  Engineering\n",
      "2     Lisa  Engineering\n",
      "3      Sue           HR\n",
      "                group\n",
      "employee             \n",
      "Bob        Accounting\n",
      "Jake      Engineering\n",
      "Lisa      Engineering\n",
      "Sue                HR\n"
     ]
    }
   ],
   "source": [
    "#●\tتغيير المفتاح\n",
    "df1 = pd.DataFrame({'employee': ['Bob', 'Jake', 'Lisa', 'Sue'],\n",
    "                    'group': ['Accounting', 'Engineering', \n",
    "                              'Engineering', 'HR']})\n",
    "df2 = pd.DataFrame({'employee': ['Lisa', 'Bob', 'Jake', 'Sue'],\n",
    "                    'hire_date': [2004, 2008, 2012, 2014]})\n",
    "\n",
    "df3 = pd.DataFrame({'name': ['Bob', 'Jake', 'Lisa', 'Sue'],\n",
    "                    'salary': [70000, 80000, 120000, 90000]})\n",
    "\n",
    "print(df1)\n",
    "\n",
    "df2 = df1.set_index('employee')\n",
    "\n",
    "print(df2)\n"
   ]
  },
  {
   "cell_type": "code",
   "execution_count": 55,
   "id": "938e0f28",
   "metadata": {},
   "outputs": [
    {
     "name": "stdout",
     "output_type": "stream",
     "text": [
      "    name   food\n",
      "0  Peter   fish\n",
      "1   Paul  beans\n",
      "2   Mary  bread\n",
      "-----------------------------\n",
      "     name drink\n",
      "0    Mary  cola\n",
      "1  Joseph  7 up\n",
      "-----------------------------\n",
      "   name   food drink\n",
      "0  Mary  bread  cola\n"
     ]
    }
   ],
   "source": [
    "#●\tتقاطع البيانات\n",
    "df1 = pd.DataFrame({'name': ['Peter', 'Paul', 'Mary'],\n",
    "                    'food': ['fish', 'beans', 'bread']},\n",
    "                    columns=['name', 'food'])\n",
    "\n",
    "df2 = pd.DataFrame({'name': ['Mary', 'Joseph'],\n",
    "                    'drink': ['cola', '7 up']},\n",
    "                    columns=['name', 'drink'])\n",
    "print(df1)\n",
    "print('-----------------------------')\n",
    "print(df2)\n",
    "print('-----------------------------')\n",
    "df3 = pd.merge(df1, df2)\n",
    "print(df3)\n"
   ]
  },
  {
   "cell_type": "code",
   "execution_count": 56,
   "id": "32e90f07",
   "metadata": {},
   "outputs": [
    {
     "name": "stdout",
     "output_type": "stream",
     "text": [
      "    name   food\n",
      "0  Peter   fish\n",
      "1   Paul  beans\n",
      "2   Mary  bread\n",
      "-----------------------------\n",
      "     name drink\n",
      "0    Mary  cola\n",
      "1  Joseph  7 up\n",
      "-----------------------------\n",
      "   name   food drink\n",
      "0  Mary  bread  cola\n"
     ]
    }
   ],
   "source": [
    "df1 = pd.DataFrame({'name': ['Peter', 'Paul', 'Mary'],\n",
    "                    'food': ['fish', 'beans', 'bread']},\n",
    "                    columns=['name', 'food'])\n",
    "\n",
    "df2 = pd.DataFrame({'name': ['Mary', 'Joseph'],\n",
    "                    'drink': ['cola', '7 up']},\n",
    "                    columns=['name', 'drink'])\n",
    "print(df1)\n",
    "print('-----------------------------')\n",
    "print(df2)\n",
    "print('-----------------------------')\n",
    "df3 = pd.merge(df1, df2, how='inner')\n",
    "print(df3)\n"
   ]
  },
  {
   "cell_type": "raw",
   "id": "9b8d7c19",
   "metadata": {},
   "source": [
    "#●\tتقاطع البيانات\n",
    "●\tpd.merge: This is a function from the Pandas library used to combine two or more DataFrames based on a common column or index.\n",
    "\n",
    "●\tdf1 and df2: These are assumed to be the two DataFrames you want to merge.\n",
    "\n",
    "●\thow='inner': This specifies the type of merge operation to be performed. In this case, it's an \"inner\" join. An inner join returns only the rows that have matching values in both DataFrames based on the specified columns. Rows with non-matching values in either DataFrame will be excluded from the result\n"
   ]
  },
  {
   "cell_type": "code",
   "execution_count": 57,
   "id": "b685fa03",
   "metadata": {},
   "outputs": [
    {
     "name": "stdout",
     "output_type": "stream",
     "text": [
      "    name   food\n",
      "0  Peter   fish\n",
      "1   Paul  beans\n",
      "2   Mary  bread\n",
      "-----------------------------\n",
      "     name drink\n",
      "0    Mary  cola\n",
      "1  Joseph  7 up\n",
      "-----------------------------\n",
      "   name   food drink\n",
      "0  Mary  bread  cola\n"
     ]
    }
   ],
   "source": [
    "df1 = pd.DataFrame({'name': ['Peter', 'Paul', 'Mary'],\n",
    "                    'food': ['fish', 'beans', 'bread']},\n",
    "                    columns=['name', 'food'])\n",
    "\n",
    "df2 = pd.DataFrame({'name': ['Mary', 'Joseph'],\n",
    "                    'drink': ['cola', '7 up']},\n",
    "                    columns=['name', 'drink'])\n",
    "print(df1)\n",
    "print('-----------------------------')\n",
    "print(df2)\n",
    "print('-----------------------------')\n",
    "df3 = pd.merge(df1, df2, how='inner')\n",
    "print(df3)\n"
   ]
  },
  {
   "cell_type": "code",
   "execution_count": 58,
   "id": "2405680e",
   "metadata": {},
   "outputs": [
    {
     "name": "stdout",
     "output_type": "stream",
     "text": [
      "    name   food\n",
      "0  Peter   fish\n",
      "1   Paul  beans\n",
      "2   Mary  bread\n",
      "-----------------------------\n",
      "     name drink\n",
      "0    Mary  cola\n",
      "1  Joseph  7 up\n",
      "-----------------------------\n",
      "     name   food drink\n",
      "0   Peter   fish   NaN\n",
      "1    Paul  beans   NaN\n",
      "2    Mary  bread  cola\n",
      "3  Joseph    NaN  7 up\n"
     ]
    }
   ],
   "source": [
    "#●\tجميع الصفوف\n",
    "df1 = pd.DataFrame({'name': ['Peter', 'Paul', 'Mary'],\n",
    "                    'food': ['fish', 'beans', 'bread']},\n",
    "                    columns=['name', 'food'])\n",
    "\n",
    "df2 = pd.DataFrame({'name': ['Mary', 'Joseph'],\n",
    "                    'drink': ['cola', '7 up']},\n",
    "                    columns=['name', 'drink'])\n",
    "print(df1)\n",
    "print('-----------------------------')\n",
    "print(df2)\n",
    "print('-----------------------------')\n",
    "df3 = pd.merge(df1, df2, how='outer')\n",
    "print(df3)\n"
   ]
  },
  {
   "cell_type": "code",
   "execution_count": 59,
   "id": "629a870a",
   "metadata": {},
   "outputs": [
    {
     "name": "stdout",
     "output_type": "stream",
     "text": [
      "    name   food\n",
      "0  Peter   fish\n",
      "1   Paul  beans\n",
      "2   Mary  bread\n",
      "-----------------------------\n",
      "     name drink\n",
      "0    Mary  cola\n",
      "1  Joseph  7 up\n",
      "-----------------------------\n",
      "     name   food drink\n",
      "0    Mary  bread  cola\n",
      "1  Joseph    NaN  7 up\n"
     ]
    }
   ],
   "source": [
    "#●\tالجدول الايمن كامل\n",
    "df1 = pd.DataFrame({'name': ['Peter', 'Paul', 'Mary'],\n",
    "                    'food': ['fish', 'beans', 'bread']},\n",
    "                    columns=['name', 'food'])\n",
    "\n",
    "df2 = pd.DataFrame({'name': ['Mary', 'Joseph'],\n",
    "                    'drink': ['cola', '7 up']},\n",
    "                    columns=['name', 'drink'])\n",
    "print(df1)\n",
    "print('-----------------------------')\n",
    "print(df2)\n",
    "print('-----------------------------')\n",
    "df3 = pd.merge(df1, df2, how='right')\n",
    "print(df3)\n"
   ]
  },
  {
   "cell_type": "code",
   "execution_count": 60,
   "id": "79b9a09b",
   "metadata": {},
   "outputs": [
    {
     "name": "stdout",
     "output_type": "stream",
     "text": [
      "    name   food drink\n",
      "0  Peter   fish   NaN\n",
      "1   Paul  beans   NaN\n",
      "2   Mary  bread  cola\n"
     ]
    }
   ],
   "source": [
    "df3 = pd.merge(df1, df2, how='left')\n",
    "print(df3)"
   ]
  },
  {
   "cell_type": "raw",
   "id": "42a3ac50",
   "metadata": {},
   "source": [
    "\n",
    "●\tIn Pandas, the prod() function is used to calculate the product of all elements in a DataFrame or along a specified axis. It's a mathematical operation that multiplies all the values together.\n"
   ]
  },
  {
   "cell_type": "code",
   "execution_count": 61,
   "id": "2d78a7c9",
   "metadata": {},
   "outputs": [
    {
     "name": "stdout",
     "output_type": "stream",
     "text": [
      "          A         B\n",
      "0  0.128075  0.500273\n",
      "1  0.153209  0.582415\n",
      "2  0.769577  0.633583\n",
      "3  0.568271  0.987881\n",
      "4  0.621929  0.183064\n",
      "5  0.897548  0.756216\n",
      "6  0.620493  0.378385\n",
      "7  0.188122  0.504419\n",
      "8  0.478664  0.057084\n",
      "9  0.620718  0.985720\n",
      "------------------------------\n",
      "A    5.046608\n",
      "B    5.569039\n",
      "dtype: float64\n",
      "------------------------------\n",
      "A    0.000166\n",
      "B    0.000271\n",
      "dtype: float64\n",
      "------------------------------\n",
      "A    0.504661\n",
      "B    0.556904\n",
      "dtype: float64\n"
     ]
    }
   ],
   "source": [
    "df = pd.DataFrame({'A': np.random.rand(10),'B': np.random.rand(10)})\n",
    "print(df)\n",
    "print('------------------------------')\n",
    "print(df.sum())\n",
    "print('------------------------------')\n",
    "print(df.prod())\n",
    "print('------------------------------')\n",
    "print(df.mean())\n"
   ]
  },
  {
   "cell_type": "code",
   "execution_count": 62,
   "id": "76b641f6",
   "metadata": {},
   "outputs": [
    {
     "name": "stdout",
     "output_type": "stream",
     "text": [
      "          A         B\n",
      "0  0.909515  0.987564\n",
      "1  0.912915  0.248439\n",
      "2  0.552952  0.028721\n",
      "3  0.226844  0.831049\n",
      "4  0.199539  0.380927\n",
      "5  0.374068  0.040991\n",
      "6  0.430157  0.140822\n",
      "7  0.446876  0.464961\n",
      "8  0.467159  0.474933\n",
      "9  0.331285  0.975764\n",
      "------------------------------\n",
      "4.851309572245816\n",
      "------------------------------\n",
      "2.7746948828145956e-06\n",
      "------------------------------\n",
      "0.48513095722458155\n"
     ]
    }
   ],
   "source": [
    "#●\tبيانات احصائية لعمود معين \n",
    "df = pd.DataFrame({'A': np.random.rand(10),'B': np.random.rand(10)})\n",
    "print(df)\n",
    "print('------------------------------')\n",
    "print(df['A'].sum())\n",
    "print('------------------------------')\n",
    "print(df['B'].prod())\n",
    "print('------------------------------')\n",
    "print(df['A'].mean())\n"
   ]
  },
  {
   "cell_type": "code",
   "execution_count": 63,
   "id": "7ea23126",
   "metadata": {},
   "outputs": [
    {
     "name": "stdout",
     "output_type": "stream",
     "text": [
      "          A         B\n",
      "0  0.269581  0.440186\n",
      "1  0.571858  0.377584\n",
      "2  0.470254  0.447435\n",
      "3  0.901666  0.403498\n",
      "4  0.865751  0.267942\n",
      "5  0.940096  0.501900\n",
      "6  0.799830  0.925723\n",
      "7  0.578189  0.717436\n",
      "8  0.326432  0.637528\n",
      "9  0.169910  0.242596\n",
      "------------------------------\n",
      "0    0.354883\n",
      "1    0.474721\n",
      "2    0.458845\n",
      "3    0.652582\n",
      "4    0.566847\n",
      "5    0.720998\n",
      "6    0.862776\n",
      "7    0.647813\n",
      "8    0.481980\n",
      "9    0.206253\n",
      "dtype: float64\n"
     ]
    }
   ],
   "source": [
    "#●\tدمج بيانات الاعمدة\n",
    "df = pd.DataFrame({'A': np.random.rand(10),'B': np.random.rand(10)})\n",
    "print(df)\n",
    "print('------------------------------')\n",
    "print(df.mean(axis='columns'))\n",
    "#axis=0 row  \\\\\\ axis=1  cols   \\\\\\\\\\\\    axis==row (cols)  \\\\\\\\\\\\\\\\    axis == cols (rows)"
   ]
  },
  {
   "cell_type": "code",
   "execution_count": 64,
   "id": "1ee2799c",
   "metadata": {},
   "outputs": [
    {
     "name": "stdout",
     "output_type": "stream",
     "text": [
      "          A         B\n",
      "0  0.062507  0.806181\n",
      "1  0.258747  0.291840\n",
      "2  0.549792  0.672677\n",
      "3  0.332685  0.631039\n",
      "4  0.432844  0.435490\n",
      "5  0.669746  0.283802\n",
      "6  0.192760  0.906575\n",
      "7  0.113851  0.666338\n",
      "8  0.617266  0.593196\n",
      "9  0.610243  0.137276\n",
      "------------------------------\n",
      "A    0.384044\n",
      "B    0.542442\n",
      "dtype: float64\n",
      "------------------------------\n",
      "A    10\n",
      "B    10\n",
      "dtype: int64\n",
      "------------------------------\n",
      "A    0.062507\n",
      "B    0.137276\n",
      "dtype: float64\n",
      "------------------------------\n",
      "A    0.669746\n",
      "B    0.906575\n",
      "dtype: float64\n",
      "------------------------------\n",
      "A    0.223198\n",
      "B    0.247248\n",
      "dtype: float64\n",
      "------------------------------\n"
     ]
    }
   ],
   "source": [
    "#●\tبيانات إحصائية للصفوف\n",
    "df = pd.DataFrame({'A': np.random.rand(10),'B': np.random.rand(10)})\n",
    "print(df)\n",
    "print('------------------------------')\n",
    "print(df.mean(axis='rows'))\n",
    "print('------------------------------')\n",
    "print(df.count())\n",
    "print('------------------------------')\n",
    "print(df.min())\n",
    "print('------------------------------')\n",
    "print(df.max())\n",
    "print('------------------------------')\n",
    "print(df.std())\n",
    "print('------------------------------')\n"
   ]
  },
  {
   "cell_type": "code",
   "execution_count": 65,
   "id": "eddf412f",
   "metadata": {},
   "outputs": [
    {
     "name": "stdout",
     "output_type": "stream",
     "text": [
      "  key  data\n",
      "0   A     0\n",
      "1   B     1\n",
      "2   C     2\n",
      "3   A     3\n",
      "4   B     4\n",
      "5   C     5\n",
      "           data\n",
      "count  6.000000\n",
      "mean   2.500000\n",
      "std    1.870829\n",
      "min    0.000000\n",
      "25%    1.250000\n",
      "50%    2.500000\n",
      "75%    3.750000\n",
      "max    5.000000\n"
     ]
    }
   ],
   "source": [
    "#●\tبيانات احصائية\n",
    "df = pd.DataFrame({'key':['A','B','C','A','B','C'],\n",
    "                   'data': range(6)},columns=['key', 'data'])\n",
    "\n",
    "print(df)\n",
    "print(df.describe())\n"
   ]
  },
  {
   "cell_type": "raw",
   "id": "18048ef0",
   "metadata": {},
   "source": [
    "#●\tمجموع قيم متشابهة\n",
    "Here's what this output means:\n",
    "●\t'A', 'B', and 'C' are the unique values in the 'key' column.\n",
    "●\tThe 'data' column is summed up for each group of rows with the same 'key' value.\n",
    "●\tSo, for 'A', the sum of 'data' is 0 + 3 = 3, for 'B' it's 1 + 4 = 5, and for 'C' it's 2 + 5 = 7.\n"
   ]
  },
  {
   "cell_type": "code",
   "execution_count": 66,
   "id": "be225e7a",
   "metadata": {},
   "outputs": [
    {
     "name": "stdout",
     "output_type": "stream",
     "text": [
      "  key  data\n",
      "0   A     0\n",
      "1   B     1\n",
      "2   C     2\n",
      "3   A     3\n",
      "4   B     4\n",
      "5   C     5\n",
      "     data\n",
      "key      \n",
      "A       3\n",
      "B       5\n",
      "C       7\n"
     ]
    }
   ],
   "source": [
    "df = pd.DataFrame({'key':['A','B','C','A','B','C'],\n",
    "                   'data': range(6)},columns=['key', 'data'])\n",
    "\n",
    "print(df)\n",
    "print(df.groupby('key').sum())\n"
   ]
  },
  {
   "cell_type": "code",
   "execution_count": 67,
   "id": "be69932b",
   "metadata": {},
   "outputs": [
    {
     "name": "stdout",
     "output_type": "stream",
     "text": [
      "  key  data\n",
      "0   A     0\n",
      "1   B     1\n",
      "2   C     2\n",
      "3   A     3\n",
      "4   B     4\n",
      "5   C     5\n",
      "     data                                         \n",
      "    count mean      std  min   25%  50%   75%  max\n",
      "key                                               \n",
      "A     2.0  1.5  2.12132  0.0  0.75  1.5  2.25  3.0\n",
      "B     2.0  2.5  2.12132  1.0  1.75  2.5  3.25  4.0\n",
      "C     2.0  3.5  2.12132  2.0  2.75  3.5  4.25  5.0\n"
     ]
    }
   ],
   "source": [
    "#●\tبيانات احصائية لقيم متشابهة\n",
    "df = pd.DataFrame({'key':['A','B','C','A','B','C'],\n",
    "                   'data': range(6)},columns=['key', 'data'])\n",
    "\n",
    "print(df)\n",
    "print(df.groupby('key').describe())\n"
   ]
  },
  {
   "cell_type": "code",
   "execution_count": 68,
   "id": "4bf57960",
   "metadata": {},
   "outputs": [
    {
     "name": "stdout",
     "output_type": "stream",
     "text": [
      "  key  data\n",
      "0   A     0\n",
      "1   B     1\n",
      "2   C     2\n",
      "3   A     3\n",
      "4   B     4\n",
      "5   C     5\n",
      "             key\n",
      "data  count  A      2.00000\n",
      "             B      2.00000\n",
      "             C      2.00000\n",
      "      mean   A      1.50000\n",
      "             B      2.50000\n",
      "             C      3.50000\n",
      "      std    A      2.12132\n",
      "             B      2.12132\n",
      "             C      2.12132\n",
      "      min    A      0.00000\n",
      "             B      1.00000\n",
      "             C      2.00000\n",
      "      25%    A      0.75000\n",
      "             B      1.75000\n",
      "             C      2.75000\n",
      "      50%    A      1.50000\n",
      "             B      2.50000\n",
      "             C      3.50000\n",
      "      75%    A      2.25000\n",
      "             B      3.25000\n",
      "             C      4.25000\n",
      "      max    A      3.00000\n",
      "             B      4.00000\n",
      "             C      5.00000\n",
      "dtype: float64\n"
     ]
    }
   ],
   "source": [
    "#●\tفك القيم الاحصائية\n",
    "df = pd.DataFrame({'key':['A','B','C','A','B','C'],\n",
    "                   'data': range(6)},columns=['key', 'data'])\n",
    "\n",
    "print(df)\n",
    "print(df.groupby('key').describe().unstack())\n"
   ]
  },
  {
   "cell_type": "markdown",
   "id": "2ba902b3",
   "metadata": {},
   "source": [
    "# أداة MultiIndex"
   ]
  },
  {
   "cell_type": "raw",
   "id": "d9ee6b62",
   "metadata": {},
   "source": [
    "●\tهي أداة للتعامل مع الجداول , والتي غالبا ما تكون ثلاثية الابعاد \n",
    "●\tكتابة جدول و اظهاره   \n"
   ]
  },
  {
   "cell_type": "code",
   "execution_count": 69,
   "id": "17e08c1b",
   "metadata": {},
   "outputs": [
    {
     "name": "stdout",
     "output_type": "stream",
     "text": [
      "California  2000    10000\n",
      "            2010    15000\n",
      "New York    2000    20000\n",
      "            2010    25000\n",
      "Texas       2000    30000\n",
      "            2010    35000\n",
      "dtype: int64\n"
     ]
    }
   ],
   "source": [
    "index = [('California', 2000),('California', 2010),\n",
    "         ('New York', 2000),('New York', 2010),\n",
    "         ('Texas', 2000),('Texas', 2010)]\n",
    "\n",
    "populations = [10000,15000,\n",
    "               20000,25000,\n",
    "               30000,35000]\n",
    "\n",
    "index = pd.MultiIndex.from_tuples(index)\n",
    "pop = pd.Series(populations, index=index)\n",
    "pop = pop.reindex(index)\n",
    "\n",
    "print(pop)\n"
   ]
  },
  {
   "cell_type": "code",
   "execution_count": 70,
   "id": "e9621c4a",
   "metadata": {},
   "outputs": [
    {
     "name": "stdout",
     "output_type": "stream",
     "text": [
      "California    15000\n",
      "New York      25000\n",
      "Texas         35000\n",
      "dtype: int64\n"
     ]
    }
   ],
   "source": [
    "#●\tسنة محددة  \n",
    "index = [('California', 2000),('California', 2010),\n",
    "         ('New York', 2000),('New York', 2010),\n",
    "         ('Texas', 2000),('Texas', 2010)]\n",
    "\n",
    "populations = [10000,15000,\n",
    "               20000,25000,\n",
    "               30000,35000]\n",
    "\n",
    "index = pd.MultiIndex.from_tuples(index)\n",
    "pop = pd.Series(populations, index=index)\n",
    "pop = pop.reindex(index)\n",
    "\n",
    "print(pop[:, 2010])\n"
   ]
  },
  {
   "cell_type": "code",
   "execution_count": 71,
   "id": "7d358e14",
   "metadata": {},
   "outputs": [
    {
     "name": "stdout",
     "output_type": "stream",
     "text": [
      "California  2000    10000\n",
      "            2010    15000\n",
      "New York    2000    20000\n",
      "            2010    25000\n",
      "Texas       2000    30000\n",
      "            2010    35000\n",
      "dtype: int64\n",
      "*************************************\n",
      "                 total  under18\n",
      "California 2000  10000  9267089\n",
      "           2010  15000  9284094\n",
      "New York   2000  20000  4687374\n",
      "           2010  25000  4318033\n",
      "Texas      2000  30000  5906301\n",
      "           2010  35000  6879014\n"
     ]
    }
   ],
   "source": [
    "#●\tزيادة عمود  \n",
    "import pandas as pd\n",
    "\n",
    "index = [('California', 2000),('California', 2010),\n",
    "         ('New York', 2000),('New York', 2010),\n",
    "         ('Texas', 2000),('Texas', 2010)]\n",
    "\n",
    "populations = [10000,15000,\n",
    "               20000,25000,\n",
    "               30000,35000]\n",
    "\n",
    "index = pd.MultiIndex.from_tuples(index)\n",
    "pop = pd.Series(populations, index=index)\n",
    "pop = pop.reindex(index)\n",
    "\n",
    "pop_df = pd.DataFrame({'total': pop,\n",
    "                       'under18':[9267089, 9284094,4687374,\n",
    "                                  4318033,5906301, 6879014]})\n",
    "\n",
    "print(pop)\n",
    "print('*************************************')\n",
    "print(pop_df)\n"
   ]
  },
  {
   "cell_type": "code",
   "execution_count": 72,
   "id": "2db1d6b1",
   "metadata": {},
   "outputs": [
    {
     "name": "stdout",
     "output_type": "stream",
     "text": [
      "       income    profit\n",
      "a 1  0.587483  0.542242\n",
      "  2  0.851547  0.086465\n",
      "b 1  0.739356  0.396584\n",
      "  2  0.456009  0.278591\n"
     ]
    }
   ],
   "source": [
    "#●\tنفس النتيجة باستخدام dataframe  \n",
    "df = pd.DataFrame(np.random.rand(4, 2),\n",
    "                  index=[['a', 'a', 'b', 'b'],\n",
    "                         [1, 2, 1, 2]],columns=['income', 'profit'])\n",
    "\n",
    "print(df)\n"
   ]
  },
  {
   "cell_type": "code",
   "execution_count": 73,
   "id": "7c350e1d",
   "metadata": {},
   "outputs": [
    {
     "name": "stdout",
     "output_type": "stream",
     "text": [
      "California  2000    10000\n",
      "            2010    15000\n",
      "Texas       2000    20000\n",
      "            2010    25000\n",
      "New York    2000    30000\n",
      "            2010    35000\n",
      "dtype: int64\n"
     ]
    }
   ],
   "source": [
    "#●\tنفس الامر  \n",
    "data = {('California', 2000): 10000,('California', 2010):15000,\n",
    "        ('Texas', 2000): 20000,('Texas', 2010): 25000,\n",
    "        ('New York', 2000): 30000,('New York', 2010): 35000}\n",
    "df = pd.Series(data)\n",
    "\n",
    "print(df)\n"
   ]
  },
  {
   "cell_type": "code",
   "execution_count": null,
   "id": "3b542368",
   "metadata": {},
   "outputs": [],
   "source": []
  }
 ],
 "metadata": {
  "kernelspec": {
   "display_name": "Python 3 (ipykernel)",
   "language": "python",
   "name": "python3"
  },
  "language_info": {
   "codemirror_mode": {
    "name": "ipython",
    "version": 3
   },
   "file_extension": ".py",
   "mimetype": "text/x-python",
   "name": "python",
   "nbconvert_exporter": "python",
   "pygments_lexer": "ipython3",
   "version": "3.9.7"
  }
 },
 "nbformat": 4,
 "nbformat_minor": 5
}
